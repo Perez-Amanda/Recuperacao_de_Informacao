{
 "cells": [
  {
   "cell_type": "code",
   "execution_count": 9,
   "metadata": {},
   "outputs": [],
   "source": [
    "# imports\n",
    "import pandas as pd\n",
    "import numpy as np\n",
    "import nltk\n",
    "import string\n",
    "import matplotlib.pyplot as plt\n",
    "import seaborn as sns\n",
    "import string\n",
    "import random\n",
    "\n",
    "from nltk.corpus import stopwords\n",
    "from pathlib import Path\n",
    "from nltk import word_tokenize\n",
    "from nltk.tokenize import WordPunctTokenizer\n",
    "from nltk.stem.snowball import EnglishStemmer\n",
    "from gensim.models import Word2Vec as w2v\n",
    "from sklearn.model_selection import train_test_split\n",
    "from sklearn.linear_model import LogisticRegression\n",
    "from sklearn.metrics import classification_report\n",
    "from collections import defaultdict\n",
    "\n",
    "# constantes\n",
    "ROOT = Path().absolute()\n",
    "txt_mus = open(ROOT/\"data/musicas_short.txt\", \"r\", encoding='utf-8')\n",
    "lyrics = txt_mus.read()\n",
    "sw = stopwords.words('english')\n",
    "plt.style.use('ggplot')"
   ]
  },
  {
   "cell_type": "code",
   "execution_count": 10,
   "metadata": {},
   "outputs": [],
   "source": [
    "# Lendo o arquivo de texto\n",
    "songs_list = lyrics.split(\"\\n\\nXXXXXXXXXX\\n\\n\")\n",
    "songs_list.pop()\n",
    "\n",
    "all_lyrics = []\n",
    "for song in songs_list:\n",
    "    lyrics1 = song.split(\"\\n---\\n\")\n",
    "    lyrics = lyrics1[0].split(\"\\n>> \") + [lyrics1[1]]\n",
    "    all_lyrics.append(lyrics)"
   ]
  },
  {
   "cell_type": "code",
   "execution_count": 11,
   "metadata": {},
   "outputs": [
    {
     "data": {
      "text/plain": [
       "[[\"I Can't Make You Love Me\",\n",
       "  'soul',\n",
       "  \"Turn down the lights\\nTurn down the bed\\nTurn down these voices\\nInside my head\\n\\nLay down with me\\nTell me no lies\\nJust hold me closely\\nDon't patronize\\nDon't patronize me\\n\\n'Cause I can't make you love me if you don't\\nAnd you can't make your heart feel something that it won't\\nAnd here in the dark, in these final hours\\nI will lay down my heart and I will feel the power\\nBut you won't, no, you won't\\n'Cause I can't make you love me\\nWhen you don't, when you don't\\n\\nI close my eyes\\n'Cause then I won't see\\nThe love you don't feel\\nWhen you're home with me\\n\\nMorning will come\\nAnd I'll do what's right\\nJust give me till then\\nTo give up this fight\\nAnd I will give up this fight\\n\\n'Cause I can't make you love me if you don't\\nAnd you can't make your heart feel something that it won't\\nAnd here in the dark, in these final hours\\nI will lay down my heart and I will feel the power\\nBut you won't, no, you won't\\n'Cause I can't make you love me\\nWhen you don't, when you don't\\n\\nWhen you don't\"],\n",
       " ['I Drink Wine',\n",
       "  'soul',\n",
       "  \"How can one become so bounded by choices that somebody else makes?\\nHow come we've both become a version of a person we don't even like?\\nWe're in love with the world, but the world just wants to bring us down\\nBy putting ideas in our heads that corrupt our hearts somehow\\n\\nWhen I was a child every single thing could blow my mind\\nSoaking it all up for fun, but now I only soak up wine\\nThey say to play hard, you work hard, find balance in the sacrifice\\nYet I don't know anybody who's truly satisfied\\n\\nYou better believe I'm trying (trying, trying)\\nTo keep climbing (climbing, climbing)\\nBut the higher we climb feels like we're both none the wiser (ah, ah, ah, ah)\\n\\nSo I hope I learn to get over myself\\nStop trying to be somebody else\\nSo we can love each other for free\\nEverybody wants something, you just want me\\n\\nWhy am I obsessing about the things I can't control?\\nWhy am I seeking approval from people I don't even know?\\nIn these crazy times I hope to find something I can cling on to\\n'Cause I need some substance in my life, something real, something that feels true\\n\\nYou better believe for you I've cried (I've cried, I've cried)\\nHigh tides (high tides, high tides)\\n'Cause I want you so bad, but you can't fight fire with fire (ah, ah, ah, ah)\\nOh, oh, oh\\n\\nI hope I learn to get over myself\\nStop trying to be somebody else\\nOh, I just want to love you, love you for free\\nEverybody wants something from me, you just want me\\n\\nListen, I know how low I can go, I give as good as I get\\nYou get the brunt of it all 'cause you're all I've got left\\nOh, I hope in time we both will find peace of mind\\nSometimes the road less traveled is the road best left behind (ah, ah, ah, ah)\\n\\nWell, I hope I learn to get over myself\\nStop trying to be somebody else\\nOh, I just want to love you, love you for free, yeah\\n'Cause everybody wants something from me, you just want me\\n\\nYou better believe I'm trying (trying, trying)\\nTo keep climbing (climbing, climbing)\\nBut the higher we climb feels like we're both none the wiser\\n\\n(The only regret I have)\\n(I wish that it was just at a different time)\\n(A most turbulent period of my life)\\n(Why would I put that on you?)\\n(That's just like a very heavy thing to have to talk about)\\n\\n(But because of that period of time)\\n(Even though it was so much fun)\\n(I didn't get to go on and to make new memories with him)\\n(There was just memories in a big storm)\"]]"
      ]
     },
     "execution_count": 11,
     "metadata": {},
     "output_type": "execute_result"
    }
   ],
   "source": [
    "all_lyrics[315:317]"
   ]
  },
  {
   "cell_type": "code",
   "execution_count": 12,
   "metadata": {},
   "outputs": [
    {
     "data": {
      "text/html": [
       "<div>\n",
       "<style scoped>\n",
       "    .dataframe tbody tr th:only-of-type {\n",
       "        vertical-align: middle;\n",
       "    }\n",
       "\n",
       "    .dataframe tbody tr th {\n",
       "        vertical-align: top;\n",
       "    }\n",
       "\n",
       "    .dataframe thead th {\n",
       "        text-align: right;\n",
       "    }\n",
       "</style>\n",
       "<table border=\"1\" class=\"dataframe\">\n",
       "  <thead>\n",
       "    <tr style=\"text-align: right;\">\n",
       "      <th></th>\n",
       "      <th>titulo</th>\n",
       "      <th>titulo tokenizado</th>\n",
       "      <th>musica completa</th>\n",
       "      <th>musica</th>\n",
       "      <th>genero</th>\n",
       "    </tr>\n",
       "  </thead>\n",
       "  <tbody>\n",
       "    <tr>\n",
       "      <th>0</th>\n",
       "      <td>34+35</td>\n",
       "      <td>[34, 35]</td>\n",
       "      <td>Hmm\\n\\nYou might think I'm crazy\\nThe way I've...</td>\n",
       "      <td>[hmm, might, think, crazi, way, cravin, put, q...</td>\n",
       "      <td>pop</td>\n",
       "    </tr>\n",
       "    <tr>\n",
       "      <th>1</th>\n",
       "      <td>34+35 (remix) (feat. megan thee stallion &amp;amp;...</td>\n",
       "      <td>[34, 35, remix, feat, megan, thee, stallion, a...</td>\n",
       "      <td>[Ariana Grande]\\nHmm\\n\\nYou might think I'm cr...</td>\n",
       "      <td>[ariana, grand, hmm, might, think, crazi, way,...</td>\n",
       "      <td>pop</td>\n",
       "    </tr>\n",
       "    <tr>\n",
       "      <th>2</th>\n",
       "      <td>7 rings</td>\n",
       "      <td>[7, ring]</td>\n",
       "      <td>Yeah, breakfast at Tiffany's and bottles of bu...</td>\n",
       "      <td>[yeah, breakfast, tiffani, bottl, bubbl, girl,...</td>\n",
       "      <td>pop</td>\n",
       "    </tr>\n",
       "    <tr>\n",
       "      <th>3</th>\n",
       "      <td>7 rings (live)</td>\n",
       "      <td>[7, ring, live]</td>\n",
       "      <td>Thank you\\nDo you mind if we change our costum...</td>\n",
       "      <td>[thank, mind, chang, costum, real, fast, got, ...</td>\n",
       "      <td>pop</td>\n",
       "    </tr>\n",
       "    <tr>\n",
       "      <th>4</th>\n",
       "      <td>7 rings (remix) (feat. 2 chainz)</td>\n",
       "      <td>[7, ring, remix, feat, 2, chainz]</td>\n",
       "      <td>Yeah, breakfast at Tiffany's and bottles of bu...</td>\n",
       "      <td>[yeah, breakfast, tiffani, bottl, bubbl, girl,...</td>\n",
       "      <td>pop</td>\n",
       "    </tr>\n",
       "  </tbody>\n",
       "</table>\n",
       "</div>"
      ],
      "text/plain": [
       "                                              titulo  \\\n",
       "0                                              34+35   \n",
       "1  34+35 (remix) (feat. megan thee stallion &amp;...   \n",
       "2                                            7 rings   \n",
       "3                                     7 rings (live)   \n",
       "4                   7 rings (remix) (feat. 2 chainz)   \n",
       "\n",
       "                                   titulo tokenizado  \\\n",
       "0                                           [34, 35]   \n",
       "1  [34, 35, remix, feat, megan, thee, stallion, a...   \n",
       "2                                          [7, ring]   \n",
       "3                                    [7, ring, live]   \n",
       "4                  [7, ring, remix, feat, 2, chainz]   \n",
       "\n",
       "                                     musica completa  \\\n",
       "0  Hmm\\n\\nYou might think I'm crazy\\nThe way I've...   \n",
       "1  [Ariana Grande]\\nHmm\\n\\nYou might think I'm cr...   \n",
       "2  Yeah, breakfast at Tiffany's and bottles of bu...   \n",
       "3  Thank you\\nDo you mind if we change our costum...   \n",
       "4  Yeah, breakfast at Tiffany's and bottles of bu...   \n",
       "\n",
       "                                              musica genero  \n",
       "0  [hmm, might, think, crazi, way, cravin, put, q...    pop  \n",
       "1  [ariana, grand, hmm, might, think, crazi, way,...    pop  \n",
       "2  [yeah, breakfast, tiffani, bottl, bubbl, girl,...    pop  \n",
       "3  [thank, mind, chang, costum, real, fast, got, ...    pop  \n",
       "4  [yeah, breakfast, tiffani, bottl, bubbl, girl,...    pop  "
      ]
     },
     "execution_count": 12,
     "metadata": {},
     "output_type": "execute_result"
    }
   ],
   "source": [
    "# Limpando e tokenizando os textos\n",
    "swu = stopwords.words('english') + list(string.punctuation)\n",
    "stemmer = EnglishStemmer()\n",
    "\n",
    "clean_lyrics = {'titulo': [], 'titulo tokenizado':[], 'musica completa':[], 'musica':[], 'genero':[]}\n",
    "tokenizador = WordPunctTokenizer()\n",
    "\n",
    "for song in all_lyrics:\n",
    "    current_song = []\n",
    "    current_title = []\n",
    "    song_lower = song[2].lower()\n",
    "    title_lower = song[0].lower()\n",
    "    genre = song[1]\n",
    "    for token in tokenizador.tokenize(song_lower):\n",
    "        if (token not in swu):\n",
    "            current_song.append(stemmer.stem(token))\n",
    "    for token in tokenizador.tokenize(title_lower):\n",
    "        if (token not in list(string.punctuation)):\n",
    "            # Inclui apenas pontuação porque, como os títulos tendem a ter\n",
    "            # menos palavras (e, muitas delas, stopwords), perde-se muita\n",
    "            # informação ao excluir as stopwords.\n",
    "            current_title.append(stemmer.stem(token))\n",
    "    clean_lyrics['titulo'].append(title_lower)\n",
    "    clean_lyrics['titulo tokenizado'].append(current_title)\n",
    "    clean_lyrics['musica completa'].append(song[2])\n",
    "    clean_lyrics['musica'].append(current_song)\n",
    "    clean_lyrics['genero'].append(genre)\n",
    "\n",
    "lyrics_df = pd.DataFrame(data = clean_lyrics)\n",
    "lyrics_df.head()"
   ]
  },
  {
   "cell_type": "code",
   "execution_count": 13,
   "metadata": {},
   "outputs": [
    {
     "data": {
      "text/plain": [
       "array(['pop', 'soul', 'indie', 'eletronica', 'pop rock', 'rock and roll',\n",
       "       'hard rock', 'reggae', 'heavy metal', 'gospel', 'hip hop/rap',\n",
       "       'punk rock', 'alternativo', 'folk'], dtype=object)"
      ]
     },
     "execution_count": 13,
     "metadata": {},
     "output_type": "execute_result"
    }
   ],
   "source": [
    "lyrics_df['genero'].unique()"
   ]
  },
  {
   "cell_type": "code",
   "execution_count": 34,
   "metadata": {},
   "outputs": [
    {
     "data": {
      "text/plain": [
       "genero\n",
       "pop rock         1345\n",
       "rock and roll    1310\n",
       "pop              1259\n",
       "gospel            965\n",
       "eletronica        902\n",
       "heavy metal       718\n",
       "hip hop/rap       698\n",
       "indie             642\n",
       "hard rock         461\n",
       "alternativo       319\n",
       "punk rock         295\n",
       "reggae            217\n",
       "soul              162\n",
       "folk               47\n",
       "Name: musica, dtype: int64"
      ]
     },
     "execution_count": 34,
     "metadata": {},
     "output_type": "execute_result"
    }
   ],
   "source": [
    "lyrics_df.groupby('genero').count()['musica'].sort_values(ascending=False)"
   ]
  },
  {
   "cell_type": "code",
   "execution_count": 43,
   "metadata": {},
   "outputs": [
    {
     "data": {
      "image/png": "[encoded data removed]",
      "text/plain": [
       "<Figure size 648x504 with 1 Axes>"
      ]
     },
     "metadata": {
      "needs_background": "light"
     },
     "output_type": "display_data"
    }
   ],
   "source": [
    "target = lyrics_df.groupby('genero').count()['musica'].sort_values(ascending=False).index\n",
    "count = lyrics_df.groupby('genero').count()['musica'].sort_values(ascending=False).values\n",
    "\n",
    "plt.figure(figsize = (9, 7))\n",
    "sns.barplot(x=count, y=target, palette='tab10')\n",
    "plt.xlabel('Contagem', size=14)\n",
    "plt.ylabel('Gênero', size=14)\n",
    "plt.title('Quantidade de músicas por gênero\\n', size=18)\n",
    "plt.show()"
   ]
  },
  {
   "attachments": {},
   "cell_type": "markdown",
   "metadata": {},
   "source": [
    "### Tentativa de reorganizar as classificações e diminuir a quantidade de classes existentes\n",
    "Como o corpus apresenta, no total, 14 gêneros musicais diferentes, utilizar uma regressão logística para fazer a classificação dos dados pode retornar resultados menos precisos, afinal muitos dos gêneros apresentados são muito semelhantes entre si. Nesse sentido, optou-se por fazer uma reorganização dos dados a fim de dimunuir o número de categorias.\n",
    "\n",
    "Primeiramente, foram excluídos alguns gêneros com menos ocorrências e menos informção contida nas letras (por exemplo, músicas eletrônicas, que em geral têm menos texto), para facilitar as análises. Além disso, músicas de gêneros que não conseguiram ser facilmente encaixados nas categorias criadas mais abaixo também foram descartados. Logo, foram as seguintes categorias:\n",
    "* eletronica\n",
    "* reggae\n",
    "* heavy metal\n",
    "* punk rock\n",
    "* soul\n",
    "\n",
    "Em seguida, optou-se por reunir alguns gêneros semelhantes sob uma mesma categoria. Utiliazndo inteiros de 0 a 5, os gêneros presentes na tabela foram agrupados da seguinte forma:\n",
    "* pop, pop rock -> pop (0)\n",
    "* rock and roll, hard rock -> rock (1)\n",
    "* indie, alternativo, folk -> indie/alternativo (2)\n",
    "* hip hop/rap -> hip hop/rap (3)\n",
    "* gospel -> gospel (4)\n",
    "* eletronica, reggae, heavy metal, punk rock, soul -> excluídos do dataframe (5)"
   ]
  },
  {
   "cell_type": "code",
   "execution_count": 44,
   "metadata": {},
   "outputs": [
    {
     "data": {
      "text/html": [
       "<div>\n",
       "<style scoped>\n",
       "    .dataframe tbody tr th:only-of-type {\n",
       "        vertical-align: middle;\n",
       "    }\n",
       "\n",
       "    .dataframe tbody tr th {\n",
       "        vertical-align: top;\n",
       "    }\n",
       "\n",
       "    .dataframe thead th {\n",
       "        text-align: right;\n",
       "    }\n",
       "</style>\n",
       "<table border=\"1\" class=\"dataframe\">\n",
       "  <thead>\n",
       "    <tr style=\"text-align: right;\">\n",
       "      <th></th>\n",
       "      <th>titulo</th>\n",
       "      <th>titulo tokenizado</th>\n",
       "      <th>musica completa</th>\n",
       "      <th>musica</th>\n",
       "      <th>genero</th>\n",
       "      <th>Target</th>\n",
       "    </tr>\n",
       "  </thead>\n",
       "  <tbody>\n",
       "    <tr>\n",
       "      <th>0</th>\n",
       "      <td>34+35</td>\n",
       "      <td>[34, 35]</td>\n",
       "      <td>Hmm\\n\\nYou might think I'm crazy\\nThe way I've...</td>\n",
       "      <td>[hmm, might, think, crazi, way, cravin, put, q...</td>\n",
       "      <td>pop</td>\n",
       "      <td>0</td>\n",
       "    </tr>\n",
       "    <tr>\n",
       "      <th>1</th>\n",
       "      <td>34+35 (remix) (feat. megan thee stallion &amp;amp;...</td>\n",
       "      <td>[34, 35, remix, feat, megan, thee, stallion, a...</td>\n",
       "      <td>[Ariana Grande]\\nHmm\\n\\nYou might think I'm cr...</td>\n",
       "      <td>[ariana, grand, hmm, might, think, crazi, way,...</td>\n",
       "      <td>pop</td>\n",
       "      <td>0</td>\n",
       "    </tr>\n",
       "    <tr>\n",
       "      <th>2</th>\n",
       "      <td>7 rings</td>\n",
       "      <td>[7, ring]</td>\n",
       "      <td>Yeah, breakfast at Tiffany's and bottles of bu...</td>\n",
       "      <td>[yeah, breakfast, tiffani, bottl, bubbl, girl,...</td>\n",
       "      <td>pop</td>\n",
       "      <td>0</td>\n",
       "    </tr>\n",
       "    <tr>\n",
       "      <th>3</th>\n",
       "      <td>7 rings (live)</td>\n",
       "      <td>[7, ring, live]</td>\n",
       "      <td>Thank you\\nDo you mind if we change our costum...</td>\n",
       "      <td>[thank, mind, chang, costum, real, fast, got, ...</td>\n",
       "      <td>pop</td>\n",
       "      <td>0</td>\n",
       "    </tr>\n",
       "    <tr>\n",
       "      <th>4</th>\n",
       "      <td>7 rings (remix) (feat. 2 chainz)</td>\n",
       "      <td>[7, ring, remix, feat, 2, chainz]</td>\n",
       "      <td>Yeah, breakfast at Tiffany's and bottles of bu...</td>\n",
       "      <td>[yeah, breakfast, tiffani, bottl, bubbl, girl,...</td>\n",
       "      <td>pop</td>\n",
       "      <td>0</td>\n",
       "    </tr>\n",
       "    <tr>\n",
       "      <th>...</th>\n",
       "      <td>...</td>\n",
       "      <td>...</td>\n",
       "      <td>...</td>\n",
       "      <td>...</td>\n",
       "      <td>...</td>\n",
       "      <td>...</td>\n",
       "    </tr>\n",
       "    <tr>\n",
       "      <th>9335</th>\n",
       "      <td>we all die trying to get it right</td>\n",
       "      <td>[we, all, die, tri, to, get, it, right]</td>\n",
       "      <td>Think you're in control until you're not\\nAnd ...</td>\n",
       "      <td>[think, control, love, find, place, alon, find...</td>\n",
       "      <td>folk</td>\n",
       "      <td>2</td>\n",
       "    </tr>\n",
       "    <tr>\n",
       "      <th>9336</th>\n",
       "      <td>we're going home</td>\n",
       "      <td>[we, re, go, home]</td>\n",
       "      <td>Under the surface you don't know what you'll f...</td>\n",
       "      <td>[surfac, know, find, hmm, time, second, chanc,...</td>\n",
       "      <td>folk</td>\n",
       "      <td>2</td>\n",
       "    </tr>\n",
       "    <tr>\n",
       "      <th>9337</th>\n",
       "      <td>where we start</td>\n",
       "      <td>[where, we, start]</td>\n",
       "      <td>Storm rolled in to our surprise\\nIt doesn't ra...</td>\n",
       "      <td>[storm, roll, surpris, rain, tall, tree, love,...</td>\n",
       "      <td>folk</td>\n",
       "      <td>2</td>\n",
       "    </tr>\n",
       "    <tr>\n",
       "      <th>9338</th>\n",
       "      <td>who am i</td>\n",
       "      <td>[who, am, i]</td>\n",
       "      <td>Hold me up to the light\\nTell me if the sun co...</td>\n",
       "      <td>[hold, light, tell, sun, come, shine, got, hea...</td>\n",
       "      <td>folk</td>\n",
       "      <td>2</td>\n",
       "    </tr>\n",
       "    <tr>\n",
       "      <th>9339</th>\n",
       "      <td>winds of change</td>\n",
       "      <td>[wind, of, chang]</td>\n",
       "      <td>I miss you more than you could know\\nI watch t...</td>\n",
       "      <td>[miss, could, know, watch, grass, back, lawn, ...</td>\n",
       "      <td>folk</td>\n",
       "      <td>2</td>\n",
       "    </tr>\n",
       "  </tbody>\n",
       "</table>\n",
       "<p>9340 rows × 6 columns</p>\n",
       "</div>"
      ],
      "text/plain": [
       "                                                 titulo  \\\n",
       "0                                                 34+35   \n",
       "1     34+35 (remix) (feat. megan thee stallion &amp;...   \n",
       "2                                               7 rings   \n",
       "3                                        7 rings (live)   \n",
       "4                      7 rings (remix) (feat. 2 chainz)   \n",
       "...                                                 ...   \n",
       "9335                  we all die trying to get it right   \n",
       "9336                                   we're going home   \n",
       "9337                                     where we start   \n",
       "9338                                           who am i   \n",
       "9339                                    winds of change   \n",
       "\n",
       "                                      titulo tokenizado  \\\n",
       "0                                              [34, 35]   \n",
       "1     [34, 35, remix, feat, megan, thee, stallion, a...   \n",
       "2                                             [7, ring]   \n",
       "3                                       [7, ring, live]   \n",
       "4                     [7, ring, remix, feat, 2, chainz]   \n",
       "...                                                 ...   \n",
       "9335            [we, all, die, tri, to, get, it, right]   \n",
       "9336                                 [we, re, go, home]   \n",
       "9337                                 [where, we, start]   \n",
       "9338                                       [who, am, i]   \n",
       "9339                                  [wind, of, chang]   \n",
       "\n",
       "                                        musica completa  \\\n",
       "0     Hmm\\n\\nYou might think I'm crazy\\nThe way I've...   \n",
       "1     [Ariana Grande]\\nHmm\\n\\nYou might think I'm cr...   \n",
       "2     Yeah, breakfast at Tiffany's and bottles of bu...   \n",
       "3     Thank you\\nDo you mind if we change our costum...   \n",
       "4     Yeah, breakfast at Tiffany's and bottles of bu...   \n",
       "...                                                 ...   \n",
       "9335  Think you're in control until you're not\\nAnd ...   \n",
       "9336  Under the surface you don't know what you'll f...   \n",
       "9337  Storm rolled in to our surprise\\nIt doesn't ra...   \n",
       "9338  Hold me up to the light\\nTell me if the sun co...   \n",
       "9339  I miss you more than you could know\\nI watch t...   \n",
       "\n",
       "                                                 musica genero  Target  \n",
       "0     [hmm, might, think, crazi, way, cravin, put, q...    pop       0  \n",
       "1     [ariana, grand, hmm, might, think, crazi, way,...    pop       0  \n",
       "2     [yeah, breakfast, tiffani, bottl, bubbl, girl,...    pop       0  \n",
       "3     [thank, mind, chang, costum, real, fast, got, ...    pop       0  \n",
       "4     [yeah, breakfast, tiffani, bottl, bubbl, girl,...    pop       0  \n",
       "...                                                 ...    ...     ...  \n",
       "9335  [think, control, love, find, place, alon, find...   folk       2  \n",
       "9336  [surfac, know, find, hmm, time, second, chanc,...   folk       2  \n",
       "9337  [storm, roll, surpris, rain, tall, tree, love,...   folk       2  \n",
       "9338  [hold, light, tell, sun, come, shine, got, hea...   folk       2  \n",
       "9339  [miss, could, know, watch, grass, back, lawn, ...   folk       2  \n",
       "\n",
       "[9340 rows x 6 columns]"
      ]
     },
     "execution_count": 44,
     "metadata": {},
     "output_type": "execute_result"
    }
   ],
   "source": [
    "dicio_target = {'pop':0, 'soul':5, 'indie':2, 'eletronica':5, 'pop rock':0, 'rock and roll':1,\\\n",
    "                'hard rock':1, 'reggae':5, 'heavy metal':5, 'gospel':4, 'hip hop/rap':3,\\\n",
    "                'punk rock':5, 'alternativo':2, 'folk':2}\n",
    "\n",
    "lyrics_df['Target'] = lyrics_df.apply(lambda x: dicio_target[x['genero']], axis=1)\n",
    "lyrics_df"
   ]
  },
  {
   "cell_type": "code",
   "execution_count": 45,
   "metadata": {},
   "outputs": [
    {
     "data": {
      "text/html": [
       "<div>\n",
       "<style scoped>\n",
       "    .dataframe tbody tr th:only-of-type {\n",
       "        vertical-align: middle;\n",
       "    }\n",
       "\n",
       "    .dataframe tbody tr th {\n",
       "        vertical-align: top;\n",
       "    }\n",
       "\n",
       "    .dataframe thead th {\n",
       "        text-align: right;\n",
       "    }\n",
       "</style>\n",
       "<table border=\"1\" class=\"dataframe\">\n",
       "  <thead>\n",
       "    <tr style=\"text-align: right;\">\n",
       "      <th></th>\n",
       "      <th>titulo</th>\n",
       "      <th>titulo tokenizado</th>\n",
       "      <th>musica completa</th>\n",
       "      <th>musica</th>\n",
       "      <th>genero</th>\n",
       "      <th>Target</th>\n",
       "    </tr>\n",
       "  </thead>\n",
       "  <tbody>\n",
       "    <tr>\n",
       "      <th>0</th>\n",
       "      <td>34+35</td>\n",
       "      <td>[34, 35]</td>\n",
       "      <td>Hmm\\n\\nYou might think I'm crazy\\nThe way I've...</td>\n",
       "      <td>[hmm, might, think, crazi, way, cravin, put, q...</td>\n",
       "      <td>pop</td>\n",
       "      <td>0</td>\n",
       "    </tr>\n",
       "    <tr>\n",
       "      <th>1</th>\n",
       "      <td>34+35 (remix) (feat. megan thee stallion &amp;amp;...</td>\n",
       "      <td>[34, 35, remix, feat, megan, thee, stallion, a...</td>\n",
       "      <td>[Ariana Grande]\\nHmm\\n\\nYou might think I'm cr...</td>\n",
       "      <td>[ariana, grand, hmm, might, think, crazi, way,...</td>\n",
       "      <td>pop</td>\n",
       "      <td>0</td>\n",
       "    </tr>\n",
       "    <tr>\n",
       "      <th>2</th>\n",
       "      <td>7 rings</td>\n",
       "      <td>[7, ring]</td>\n",
       "      <td>Yeah, breakfast at Tiffany's and bottles of bu...</td>\n",
       "      <td>[yeah, breakfast, tiffani, bottl, bubbl, girl,...</td>\n",
       "      <td>pop</td>\n",
       "      <td>0</td>\n",
       "    </tr>\n",
       "    <tr>\n",
       "      <th>3</th>\n",
       "      <td>7 rings (live)</td>\n",
       "      <td>[7, ring, live]</td>\n",
       "      <td>Thank you\\nDo you mind if we change our costum...</td>\n",
       "      <td>[thank, mind, chang, costum, real, fast, got, ...</td>\n",
       "      <td>pop</td>\n",
       "      <td>0</td>\n",
       "    </tr>\n",
       "    <tr>\n",
       "      <th>4</th>\n",
       "      <td>7 rings (remix) (feat. 2 chainz)</td>\n",
       "      <td>[7, ring, remix, feat, 2, chainz]</td>\n",
       "      <td>Yeah, breakfast at Tiffany's and bottles of bu...</td>\n",
       "      <td>[yeah, breakfast, tiffani, bottl, bubbl, girl,...</td>\n",
       "      <td>pop</td>\n",
       "      <td>0</td>\n",
       "    </tr>\n",
       "    <tr>\n",
       "      <th>...</th>\n",
       "      <td>...</td>\n",
       "      <td>...</td>\n",
       "      <td>...</td>\n",
       "      <td>...</td>\n",
       "      <td>...</td>\n",
       "      <td>...</td>\n",
       "    </tr>\n",
       "    <tr>\n",
       "      <th>7041</th>\n",
       "      <td>we all die trying to get it right</td>\n",
       "      <td>[we, all, die, tri, to, get, it, right]</td>\n",
       "      <td>Think you're in control until you're not\\nAnd ...</td>\n",
       "      <td>[think, control, love, find, place, alon, find...</td>\n",
       "      <td>folk</td>\n",
       "      <td>2</td>\n",
       "    </tr>\n",
       "    <tr>\n",
       "      <th>7042</th>\n",
       "      <td>we're going home</td>\n",
       "      <td>[we, re, go, home]</td>\n",
       "      <td>Under the surface you don't know what you'll f...</td>\n",
       "      <td>[surfac, know, find, hmm, time, second, chanc,...</td>\n",
       "      <td>folk</td>\n",
       "      <td>2</td>\n",
       "    </tr>\n",
       "    <tr>\n",
       "      <th>7043</th>\n",
       "      <td>where we start</td>\n",
       "      <td>[where, we, start]</td>\n",
       "      <td>Storm rolled in to our surprise\\nIt doesn't ra...</td>\n",
       "      <td>[storm, roll, surpris, rain, tall, tree, love,...</td>\n",
       "      <td>folk</td>\n",
       "      <td>2</td>\n",
       "    </tr>\n",
       "    <tr>\n",
       "      <th>7044</th>\n",
       "      <td>who am i</td>\n",
       "      <td>[who, am, i]</td>\n",
       "      <td>Hold me up to the light\\nTell me if the sun co...</td>\n",
       "      <td>[hold, light, tell, sun, come, shine, got, hea...</td>\n",
       "      <td>folk</td>\n",
       "      <td>2</td>\n",
       "    </tr>\n",
       "    <tr>\n",
       "      <th>7045</th>\n",
       "      <td>winds of change</td>\n",
       "      <td>[wind, of, chang]</td>\n",
       "      <td>I miss you more than you could know\\nI watch t...</td>\n",
       "      <td>[miss, could, know, watch, grass, back, lawn, ...</td>\n",
       "      <td>folk</td>\n",
       "      <td>2</td>\n",
       "    </tr>\n",
       "  </tbody>\n",
       "</table>\n",
       "<p>7046 rows × 6 columns</p>\n",
       "</div>"
      ],
      "text/plain": [
       "                                                 titulo  \\\n",
       "0                                                 34+35   \n",
       "1     34+35 (remix) (feat. megan thee stallion &amp;...   \n",
       "2                                               7 rings   \n",
       "3                                        7 rings (live)   \n",
       "4                      7 rings (remix) (feat. 2 chainz)   \n",
       "...                                                 ...   \n",
       "7041                  we all die trying to get it right   \n",
       "7042                                   we're going home   \n",
       "7043                                     where we start   \n",
       "7044                                           who am i   \n",
       "7045                                    winds of change   \n",
       "\n",
       "                                      titulo tokenizado  \\\n",
       "0                                              [34, 35]   \n",
       "1     [34, 35, remix, feat, megan, thee, stallion, a...   \n",
       "2                                             [7, ring]   \n",
       "3                                       [7, ring, live]   \n",
       "4                     [7, ring, remix, feat, 2, chainz]   \n",
       "...                                                 ...   \n",
       "7041            [we, all, die, tri, to, get, it, right]   \n",
       "7042                                 [we, re, go, home]   \n",
       "7043                                 [where, we, start]   \n",
       "7044                                       [who, am, i]   \n",
       "7045                                  [wind, of, chang]   \n",
       "\n",
       "                                        musica completa  \\\n",
       "0     Hmm\\n\\nYou might think I'm crazy\\nThe way I've...   \n",
       "1     [Ariana Grande]\\nHmm\\n\\nYou might think I'm cr...   \n",
       "2     Yeah, breakfast at Tiffany's and bottles of bu...   \n",
       "3     Thank you\\nDo you mind if we change our costum...   \n",
       "4     Yeah, breakfast at Tiffany's and bottles of bu...   \n",
       "...                                                 ...   \n",
       "7041  Think you're in control until you're not\\nAnd ...   \n",
       "7042  Under the surface you don't know what you'll f...   \n",
       "7043  Storm rolled in to our surprise\\nIt doesn't ra...   \n",
       "7044  Hold me up to the light\\nTell me if the sun co...   \n",
       "7045  I miss you more than you could know\\nI watch t...   \n",
       "\n",
       "                                                 musica genero  Target  \n",
       "0     [hmm, might, think, crazi, way, cravin, put, q...    pop       0  \n",
       "1     [ariana, grand, hmm, might, think, crazi, way,...    pop       0  \n",
       "2     [yeah, breakfast, tiffani, bottl, bubbl, girl,...    pop       0  \n",
       "3     [thank, mind, chang, costum, real, fast, got, ...    pop       0  \n",
       "4     [yeah, breakfast, tiffani, bottl, bubbl, girl,...    pop       0  \n",
       "...                                                 ...    ...     ...  \n",
       "7041  [think, control, love, find, place, alon, find...   folk       2  \n",
       "7042  [surfac, know, find, hmm, time, second, chanc,...   folk       2  \n",
       "7043  [storm, roll, surpris, rain, tall, tree, love,...   folk       2  \n",
       "7044  [hold, light, tell, sun, come, shine, got, hea...   folk       2  \n",
       "7045  [miss, could, know, watch, grass, back, lawn, ...   folk       2  \n",
       "\n",
       "[7046 rows x 6 columns]"
      ]
     },
     "execution_count": 45,
     "metadata": {},
     "output_type": "execute_result"
    }
   ],
   "source": [
    "# Excluindo a categoria 5\n",
    "lyrics_df = lyrics_df.loc[lyrics_df['Target'] != 5].reset_index().drop(columns='index')\n",
    "lyrics_df"
   ]
  },
  {
   "attachments": {},
   "cell_type": "markdown",
   "metadata": {},
   "source": [
    "### Breve análise exploratória dos dados\n",
    "\n",
    "A partir do dataset já limpo e recategorizado, foram construídos alguns gráficos a fim explorar as principais características dos dados."
   ]
  },
  {
   "cell_type": "code",
   "execution_count": 56,
   "metadata": {},
   "outputs": [
    {
     "data": {
      "text/plain": [
       "Int64Index([0, 1, 2, 4, 3], dtype='int64', name='Target')"
      ]
     },
     "execution_count": 56,
     "metadata": {},
     "output_type": "execute_result"
    }
   ],
   "source": [
    "count_df = lyrics_df.groupby('Target').count()\n",
    "count_df = count_df['musica'].sort_values(ascending=False)\n",
    "count_df.index"
   ]
  },
  {
   "cell_type": "code",
   "execution_count": 66,
   "metadata": {},
   "outputs": [
    {
     "data": {
      "image/png": "[encoded data removed]",
      "text/plain": [
       "<Figure size 648x504 with 1 Axes>"
      ]
     },
     "metadata": {
      "needs_background": "light"
     },
     "output_type": "display_data"
    }
   ],
   "source": [
    "dicio_target = {0: 'pop',1:'rock',2:'indie', 3:'hip hop/rap', 4:'gospel'}\n",
    "target_int = count_df.index\n",
    "target = [dicio_target[idx] for idx in target_int.tolist()]\n",
    "count = count_df.values\n",
    "\n",
    "# sns.barplot(x=count, y=target, palette='husl').set(title = 'Quantidade de músicas por categoria\\n')\n",
    "\n",
    "plt.figure(figsize = (9, 7))\n",
    "sns.barplot(x=count, y=target, palette='tab10')\n",
    "plt.xlabel('Contagem', size=14)\n",
    "plt.ylabel('Categoria', size=14)\n",
    "plt.title('Quantidade de músicas por categoria\\n', size=18)\n",
    "plt.show()"
   ]
  },
  {
   "attachments": {},
   "cell_type": "markdown",
   "metadata": {},
   "source": [
    "### Brincando com os modelos do Word2Vec"
   ]
  },
  {
   "cell_type": "code",
   "execution_count": 68,
   "metadata": {},
   "outputs": [],
   "source": [
    "titles_list =  lyrics_df['titulo tokenizado'].tolist()\n",
    "lyrics_list = lyrics_df['musica'].tolist()"
   ]
  },
  {
   "cell_type": "code",
   "execution_count": 69,
   "metadata": {},
   "outputs": [],
   "source": [
    "titles_model = w2v(titles_list, min_count=5)\n",
    "lyrics_model = w2v(lyrics_list, min_count=25)\n",
    "\n",
    "def similar(word, where=1):\n",
    "    if where == 0:  # considera o título das músicas\n",
    "        similar = titles_model.wv.most_similar(stemmer.stem(word))\n",
    "    elif where == 1:  # considera a letra das músicas\n",
    "        similar = lyrics_model.wv.most_similar(stemmer.stem(word))\n",
    "    return similar"
   ]
  },
  {
   "cell_type": "code",
   "execution_count": 71,
   "metadata": {},
   "outputs": [
    {
     "data": {
      "text/plain": [
       "[('kind', 0.5848154425621033),\n",
       " ('dancer', 0.5244021415710449),\n",
       " ('wolf', 0.5117327570915222),\n",
       " ('deepli', 0.48143598437309265),\n",
       " ('surfac', 0.45446568727493286),\n",
       " ('mother', 0.4536292254924774),\n",
       " ('mend', 0.44918110966682434),\n",
       " ('anger', 0.4461888074874878),\n",
       " ('underneath', 0.4314558804035187),\n",
       " ('present', 0.42515987157821655)]"
      ]
     },
     "execution_count": 71,
     "metadata": {},
     "output_type": "execute_result"
    }
   ],
   "source": [
    "similar('lover')"
   ]
  },
  {
   "cell_type": "code",
   "execution_count": 72,
   "metadata": {},
   "outputs": [
    {
     "data": {
      "text/plain": [
       "[('languag', 0.5865907073020935),\n",
       " ('tough', 0.5368690490722656),\n",
       " ('listen', 0.5050937533378601),\n",
       " ('talkin', 0.4892454147338867),\n",
       " ('curv', 0.47976693511009216),\n",
       " ('walk', 0.46913841366767883),\n",
       " ('monkey', 0.4582293927669525),\n",
       " ('speak', 0.42511677742004395),\n",
       " ('bout', 0.42380884289741516),\n",
       " ('ego', 0.4119383692741394)]"
      ]
     },
     "execution_count": 72,
     "metadata": {},
     "output_type": "execute_result"
    }
   ],
   "source": [
    "similar('talk')"
   ]
  },
  {
   "cell_type": "code",
   "execution_count": 73,
   "metadata": {},
   "outputs": [
    {
     "data": {
      "text/plain": [
       "[('spend', 0.6645798683166504),\n",
       " ('cash', 0.6157851815223694),\n",
       " ('rent', 0.5863938331604004),\n",
       " ('earn', 0.584719717502594),\n",
       " ('dolla', 0.5819085240364075),\n",
       " ('bill', 0.5663626194000244),\n",
       " ('bread', 0.5660426616668701),\n",
       " ('colleg', 0.555345356464386),\n",
       " ('dollar', 0.5501088500022888),\n",
       " ('daili', 0.5455799698829651)]"
      ]
     },
     "execution_count": 73,
     "metadata": {},
     "output_type": "execute_result"
    }
   ],
   "source": [
    "similar('money')"
   ]
  },
  {
   "cell_type": "code",
   "execution_count": 74,
   "metadata": {},
   "outputs": [
    {
     "data": {
      "text/plain": [
       "[('buri', 0.7131282687187195),\n",
       " ('woke', 0.548803448677063),\n",
       " ('led', 0.5366547703742981),\n",
       " ('awak', 0.4956878423690796),\n",
       " ('death', 0.4934784770011902),\n",
       " ('arriv', 0.49154767394065857),\n",
       " ('cave', 0.48680368065834045),\n",
       " ('flower', 0.4799598753452301),\n",
       " ('bloom', 0.47936367988586426),\n",
       " ('hang', 0.47824156284332275)]"
      ]
     },
     "execution_count": 74,
     "metadata": {},
     "output_type": "execute_result"
    }
   ],
   "source": [
    "similar('dead')"
   ]
  },
  {
   "cell_type": "code",
   "execution_count": 75,
   "metadata": {},
   "outputs": [
    {
     "data": {
      "text/plain": [
       "[('bless', 0.8568189740180969),\n",
       " ('almighti', 0.7704364061355591),\n",
       " ('overcom', 0.6415073871612549),\n",
       " ('reign', 0.6371095776557922),\n",
       " ('emmanuel', 0.6268636584281921),\n",
       " ('worship', 0.6231434345245361),\n",
       " ('mighti', 0.6219316720962524),\n",
       " ('glori', 0.6071105599403381),\n",
       " ('overwhelm', 0.6039947271347046),\n",
       " ('majesti', 0.6023054122924805)]"
      ]
     },
     "execution_count": 75,
     "metadata": {},
     "output_type": "execute_result"
    }
   ],
   "source": [
    "similar('god')"
   ]
  },
  {
   "attachments": {},
   "cell_type": "markdown",
   "metadata": {},
   "source": [
    "## Usando Word2Vec para fazer a classificação"
   ]
  },
  {
   "cell_type": "code",
   "execution_count": 86,
   "metadata": {},
   "outputs": [],
   "source": [
    "# Separando conjunto de treinamento e de teste:\n",
    "X_train, X_test, y_train, y_test = train_test_split(lyrics_df['musica'], lyrics_df['Target'], test_size=0.3, shuffle=True)"
   ]
  },
  {
   "cell_type": "code",
   "execution_count": 87,
   "metadata": {},
   "outputs": [
    {
     "data": {
      "text/plain": [
       "3582    [look, morn, rain, use, feel, uninspir, knew, ...\n",
       "6080    [presenc, full, life, heal, flow, bodi, soul, ...\n",
       "2821    [break, power, sin, dark, whose, love, mighti,...\n",
       "5304    [go, home, alon, drive, past, place, born, pla...\n",
       "2039    [look, african, queen, eat, twelv, chapatti, c...\n",
       "                              ...                        \n",
       "4622    [met, upon, hill, night, cool, still, suck, do...\n",
       "2348    [hell, rais, leather, five, year, stood, black...\n",
       "3190    [babi, yeah, got, babi, yeah, got, babi, yeah,...\n",
       "6269    [everi, soul, everi, beat, heart, everi, natio...\n",
       "158     [mu, mu, mu, murda, tell, get, feel, realli, w...\n",
       "Name: musica, Length: 4932, dtype: object"
      ]
     },
     "execution_count": 87,
     "metadata": {},
     "output_type": "execute_result"
    }
   ],
   "source": [
    "X_train "
   ]
  },
  {
   "cell_type": "code",
   "execution_count": 88,
   "metadata": {},
   "outputs": [
    {
     "data": {
      "text/plain": [
       "3582    0\n",
       "6080    4\n",
       "2821    4\n",
       "5304    2\n",
       "2039    1\n",
       "       ..\n",
       "4622    0\n",
       "2348    1\n",
       "3190    0\n",
       "6269    4\n",
       "158     0\n",
       "Name: Target, Length: 4932, dtype: int64"
      ]
     },
     "execution_count": 88,
     "metadata": {},
     "output_type": "execute_result"
    }
   ],
   "source": [
    "y_train "
   ]
  },
  {
   "cell_type": "code",
   "execution_count": 89,
   "metadata": {},
   "outputs": [],
   "source": [
    "# Deixando os dados no formato necessário para a aplicação dos modelos do scikit learn\n",
    "class MeanEmbeddingVectorizer(object):\n",
    "    def __init__(self, word2vec):\n",
    "        self.word2vec = word2vec\n",
    "        self.dim = len(next(iter(word2vec.values())))\n",
    "\n",
    "    def transform(self, X):\n",
    "        '''\n",
    "        Transforma os dados textuais em dados numéricos, vetorizando as palavras\n",
    "        de cada música.\n",
    "        '''\n",
    "        return np.array([np.mean([self.word2vec[w] for w in words if w in self.word2vec] \\\n",
    "            or [np.zeros(self.dim)], axis=0) for words in X])\n",
    "\n",
    "model = w2v(lyrics_df['musica'], min_count=1)\n",
    "w2vec = dict(zip(model.wv.index_to_key, model.wv.vectors))\n",
    "modelw = MeanEmbeddingVectorizer(w2vec)\n",
    "X_train_ = modelw.transform(X_train)\n",
    "X_test_ = modelw.transform(X_test)"
   ]
  },
  {
   "cell_type": "code",
   "execution_count": 90,
   "metadata": {},
   "outputs": [
    {
     "data": {
      "text/plain": [
       "array([[ 0.00120026, -0.0989248 ,  0.20190349, ..., -0.24406607,\n",
       "        -0.83880788,  0.31492993],\n",
       "       [-0.02194807, -0.13753413,  0.05744245, ..., -0.20531565,\n",
       "        -0.69334996,  0.00651305],\n",
       "       [-0.23664382,  0.29350558,  0.45998028, ..., -0.34044108,\n",
       "        -0.14018109,  0.30950543],\n",
       "       ...,\n",
       "       [ 0.12189651, -0.02169093,  0.06861567, ..., -0.61171436,\n",
       "        -0.30588704,  0.44884512],\n",
       "       [-0.15678142,  0.08132638,  0.4634029 , ..., -0.19782563,\n",
       "        -0.39832354,  0.27117309],\n",
       "       [ 0.07880162,  0.03684461,  0.18241239, ..., -0.32663488,\n",
       "        -0.29280978,  0.05144956]])"
      ]
     },
     "execution_count": 90,
     "metadata": {},
     "output_type": "execute_result"
    }
   ],
   "source": [
    "X_train_ "
   ]
  },
  {
   "attachments": {},
   "cell_type": "markdown",
   "metadata": {},
   "source": [
    "Foram treinados dois modelos: o primeiro (``regressao_modelo1``) leva em consideração a diferença no número de ocorrências\n",
    "dentro de cada classe, atribuindo pesos distintos para cada categoria a depender desse valor; já o segundo modelo (``regressao_modelo2``)\n",
    "não o faz."
   ]
  },
  {
   "cell_type": "code",
   "execution_count": 91,
   "metadata": {},
   "outputs": [
    {
     "data": {
      "text/html": [
       "<style>#sk-container-id-3 {color: black;background-color: white;}#sk-container-id-3 pre{padding: 0;}#sk-container-id-3 div.sk-toggleable {background-color: white;}#sk-container-id-3 label.sk-toggleable__label {cursor: pointer;display: block;width: 100%;margin-bottom: 0;padding: 0.3em;box-sizing: border-box;text-align: center;}#sk-container-id-3 label.sk-toggleable__label-arrow:before {content: \"▸\";float: left;margin-right: 0.25em;color: #696969;}#sk-container-id-3 label.sk-toggleable__label-arrow:hover:before {color: black;}#sk-container-id-3 div.sk-estimator:hover label.sk-toggleable__label-arrow:before {color: black;}#sk-container-id-3 div.sk-toggleable__content {max-height: 0;max-width: 0;overflow: hidden;text-align: left;background-color: #f0f8ff;}#sk-container-id-3 div.sk-toggleable__content pre {margin: 0.2em;color: black;border-radius: 0.25em;background-color: #f0f8ff;}#sk-container-id-3 input.sk-toggleable__control:checked~div.sk-toggleable__content {max-height: 200px;max-width: 100%;overflow: auto;}#sk-container-id-3 input.sk-toggleable__control:checked~label.sk-toggleable__label-arrow:before {content: \"▾\";}#sk-container-id-3 div.sk-estimator input.sk-toggleable__control:checked~label.sk-toggleable__label {background-color: #d4ebff;}#sk-container-id-3 div.sk-label input.sk-toggleable__control:checked~label.sk-toggleable__label {background-color: #d4ebff;}#sk-container-id-3 input.sk-hidden--visually {border: 0;clip: rect(1px 1px 1px 1px);clip: rect(1px, 1px, 1px, 1px);height: 1px;margin: -1px;overflow: hidden;padding: 0;position: absolute;width: 1px;}#sk-container-id-3 div.sk-estimator {font-family: monospace;background-color: #f0f8ff;border: 1px dotted black;border-radius: 0.25em;box-sizing: border-box;margin-bottom: 0.5em;}#sk-container-id-3 div.sk-estimator:hover {background-color: #d4ebff;}#sk-container-id-3 div.sk-parallel-item::after {content: \"\";width: 100%;border-bottom: 1px solid gray;flex-grow: 1;}#sk-container-id-3 div.sk-label:hover label.sk-toggleable__label {background-color: #d4ebff;}#sk-container-id-3 div.sk-serial::before {content: \"\";position: absolute;border-left: 1px solid gray;box-sizing: border-box;top: 0;bottom: 0;left: 50%;z-index: 0;}#sk-container-id-3 div.sk-serial {display: flex;flex-direction: column;align-items: center;background-color: white;padding-right: 0.2em;padding-left: 0.2em;position: relative;}#sk-container-id-3 div.sk-item {position: relative;z-index: 1;}#sk-container-id-3 div.sk-parallel {display: flex;align-items: stretch;justify-content: center;background-color: white;position: relative;}#sk-container-id-3 div.sk-item::before, #sk-container-id-3 div.sk-parallel-item::before {content: \"\";position: absolute;border-left: 1px solid gray;box-sizing: border-box;top: 0;bottom: 0;left: 50%;z-index: -1;}#sk-container-id-3 div.sk-parallel-item {display: flex;flex-direction: column;z-index: 1;position: relative;background-color: white;}#sk-container-id-3 div.sk-parallel-item:first-child::after {align-self: flex-end;width: 50%;}#sk-container-id-3 div.sk-parallel-item:last-child::after {align-self: flex-start;width: 50%;}#sk-container-id-3 div.sk-parallel-item:only-child::after {width: 0;}#sk-container-id-3 div.sk-dashed-wrapped {border: 1px dashed gray;margin: 0 0.4em 0.5em 0.4em;box-sizing: border-box;padding-bottom: 0.4em;background-color: white;}#sk-container-id-3 div.sk-label label {font-family: monospace;font-weight: bold;display: inline-block;line-height: 1.2em;}#sk-container-id-3 div.sk-label-container {text-align: center;}#sk-container-id-3 div.sk-container {/* jupyter's `normalize.less` sets `[hidden] { display: none; }` but bootstrap.min.css set `[hidden] { display: none !important; }` so we also need the `!important` here to be able to override the default hidden behavior on the sphinx rendered scikit-learn.org. See: https://github.com/scikit-learn/scikit-learn/issues/21755 */display: inline-block !important;position: relative;}#sk-container-id-3 div.sk-text-repr-fallback {display: none;}</style><div id=\"sk-container-id-3\" class=\"sk-top-container\"><div class=\"sk-text-repr-fallback\"><pre>LogisticRegression(solver=&#x27;newton-cg&#x27;)</pre><b>In a Jupyter environment, please rerun this cell to show the HTML representation or trust the notebook. <br />On GitHub, the HTML representation is unable to render, please try loading this page with nbviewer.org.</b></div><div class=\"sk-container\" hidden><div class=\"sk-item\"><div class=\"sk-estimator sk-toggleable\"><input class=\"sk-toggleable__control sk-hidden--visually\" id=\"sk-estimator-id-3\" type=\"checkbox\" checked><label for=\"sk-estimator-id-3\" class=\"sk-toggleable__label sk-toggleable__label-arrow\">LogisticRegression</label><div class=\"sk-toggleable__content\"><pre>LogisticRegression(solver=&#x27;newton-cg&#x27;)</pre></div></div></div></div></div>"
      ],
      "text/plain": [
       "LogisticRegression(solver='newton-cg')"
      ]
     },
     "execution_count": 91,
     "metadata": {},
     "output_type": "execute_result"
    }
   ],
   "source": [
    "# Definindo os modelos:\n",
    "regressao_modelo1 = LogisticRegression(solver = 'newton-cg', class_weight='balanced')\n",
    "regressao_modelo2 = LogisticRegression(solver = 'newton-cg')\n",
    "# Treinando os modelos:\n",
    "regressao_modelo1.fit(X_train_, y_train)\n",
    "regressao_modelo2.fit(X_train_, y_train)"
   ]
  },
  {
   "cell_type": "code",
   "execution_count": 92,
   "metadata": {},
   "outputs": [],
   "source": [
    "y_pred1 = regressao_modelo1.predict(X_test_)\n",
    "y_pred2 = regressao_modelo2.predict(X_test_)"
   ]
  },
  {
   "cell_type": "code",
   "execution_count": 99,
   "metadata": {},
   "outputs": [
    {
     "name": "stdout",
     "output_type": "stream",
     "text": [
      ">> Modelo 1 (considerando diferença no tamanho das classes):\n",
      "\n",
      "               precision    recall  f1-score   support\n",
      "\n",
      "           0       0.64      0.38      0.48       775\n",
      "           1       0.55      0.46      0.50       546\n",
      "           2       0.24      0.43      0.31       277\n",
      "           3       0.46      0.79      0.58       206\n",
      "           4       0.84      0.94      0.88       310\n",
      "\n",
      "    accuracy                           0.53      2114\n",
      "   macro avg       0.55      0.60      0.55      2114\n",
      "weighted avg       0.58      0.53      0.53      2114\n",
      " \n",
      "---\n",
      " \n",
      ">> Modelo 2 (não considerando diferença no tamanho das classes):\n",
      "\n",
      "               precision    recall  f1-score   support\n",
      "\n",
      "           0       0.53      0.73      0.61       775\n",
      "           1       0.56      0.45      0.50       546\n",
      "           2       0.23      0.10      0.14       277\n",
      "           3       0.67      0.54      0.60       206\n",
      "           4       0.88      0.90      0.89       310\n",
      "\n",
      "    accuracy                           0.58      2114\n",
      "   macro avg       0.57      0.54      0.55      2114\n",
      "weighted avg       0.56      0.58      0.56      2114\n",
      "\n"
     ]
    }
   ],
   "source": [
    "print('>> Modelo 1 (considerando diferença no tamanho das classes):\\n\\n', classification_report(y_test, y_pred1), \\\n",
    "    '\\n---\\n', '\\n>> Modelo 2 (não considerando diferença no tamanho das classes):\\n\\n', classification_report(y_test, y_pred2))"
   ]
  },
  {
   "attachments": {},
   "cell_type": "markdown",
   "metadata": {},
   "source": [
    "Segundo modelo: recall bem baixo -> o modelo deixou passar muitas músicas da categoria indie/alternativa\n",
    "\n",
    "Ambos os modelos foram piores para lidar com a categoria indie/alternativa, foram melhores (porém ainda ruins) para lidar com as categorias\n",
    "pop, rock e hip hop/rap, mas apresentaram ótimos resultados lidando com a categoria gospel."
   ]
  },
  {
   "cell_type": "code",
   "execution_count": 101,
   "metadata": {},
   "outputs": [
    {
     "name": "stdout",
     "output_type": "stream",
     "text": [
      "3444    [second, walk, room, leg, start, shake, blood,...\n",
      "111     [never, thought, simpl, found, way, found, way...\n",
      "55      [got, weak, decid, would, check, say, hello, l...\n",
      "1261    [noth, like, real, thing, babi, noth, like, re...\n",
      "3718    [beach, good, place, pick, girl, realli, see, ...\n",
      "                              ...                        \n",
      "6303    [shelter, hous, go, spirit, god, glow, rest, p...\n",
      "6395    [vers, 1, whenev, see, face, fear, fli, whenev...\n",
      "5356    [well, gear, walkin, street, feel, slime, drip...\n",
      "3065    [’, gonna, get, gonna, get, togeth, ’, gonna, ...\n",
      "320     [pin, dark, fight, sheet, near, cri, sleep, ye...\n",
      "Name: musica, Length: 2114, dtype: object\n",
      "\n",
      "\n",
      "3444    0\n",
      "111     0\n",
      "55      0\n",
      "1261    0\n",
      "3718    0\n",
      "       ..\n",
      "6303    4\n",
      "6395    4\n",
      "5356    1\n",
      "3065    0\n",
      "320     2\n",
      "Name: Target, Length: 2114, dtype: int64\n"
     ]
    }
   ],
   "source": [
    "print(X_test)\n",
    "print('\\n')\n",
    "print(y_test)"
   ]
  },
  {
   "cell_type": "code",
   "execution_count": 103,
   "metadata": {},
   "outputs": [
    {
     "name": "stdout",
     "output_type": "stream",
     "text": [
      "titulo                                                           bones\n",
      "titulo tokenizado                                               [bone]\n",
      "musica completa      The second you walked in the room, my legs sta...\n",
      "musica               [second, walk, room, leg, start, shake, blood,...\n",
      "genero                                                        pop rock\n",
      "Target                                                               0\n",
      "Name: 3444, dtype: object\n",
      "\n",
      "\n",
      "Modelo 1: 0, Modelo 2: 0\n"
     ]
    }
   ],
   "source": [
    "print(lyrics_df.iloc[3444]) # primeira música do conjunto de teste\n",
    "print('\\n')\n",
    "print(f'Modelo 1: {y_pred1[0]}, Modelo 2: {y_pred2[0]}')"
   ]
  },
  {
   "attachments": {},
   "cell_type": "markdown",
   "metadata": {},
   "source": [
    "No caso acima, podemos ver que ambos os modelos acertaram a previsão.\n",
    "\n",
    "Por fim, testando com uma última música:"
   ]
  },
  {
   "cell_type": "code",
   "execution_count": 104,
   "metadata": {},
   "outputs": [],
   "source": [
    "boss_final = lyrics_df.loc[lyrics_df['titulo'] == 'take me to church']\n",
    "boss_final = boss_final['musica']"
   ]
  },
  {
   "cell_type": "code",
   "execution_count": 106,
   "metadata": {},
   "outputs": [
    {
     "data": {
      "text/plain": [
       "array([[ 0.06629094, -0.03711534,  0.05951777, -0.28147966, -0.03757274,\n",
       "        -0.46364433,  0.12307993,  0.41165465, -0.38287804, -0.544488  ,\n",
       "        -0.25042218, -0.5088017 ,  0.31273386,  0.4291813 , -0.35255682,\n",
       "         0.18168949,  0.22267887, -0.30262965, -0.4895625 , -0.33097106,\n",
       "         0.08654214, -0.5066243 ,  0.00537932, -0.0386173 , -0.16988179,\n",
       "         0.14773019, -0.6186023 , -0.33915007, -0.6300532 , -0.13404459,\n",
       "         0.20835465,  0.26227346,  0.3603134 , -0.41073704,  0.14502   ,\n",
       "         0.5304364 ,  0.33668327, -0.24228233, -0.41800037, -0.1571959 ,\n",
       "        -0.40512118, -0.16028367, -0.5911089 ,  0.44954458,  0.2256311 ,\n",
       "         0.11772861, -0.35365653, -0.13652313,  0.22157906,  0.38444117,\n",
       "         0.29276535,  0.11603554, -0.4531159 , -0.21500343, -0.16652325,\n",
       "         0.20627052,  0.13610134, -0.15291421,  0.11182084, -0.06971484,\n",
       "         0.14189719, -0.42437902,  0.1926834 ,  0.10237315, -0.44677433,\n",
       "         0.21487524,  0.36387095, -0.13594054, -0.16413206,  0.34463158,\n",
       "        -0.6375847 ,  0.14144409, -0.11970958,  0.26146355,  0.60500777,\n",
       "         0.27128136, -0.15932135, -0.16222252, -0.36962238,  0.15872443,\n",
       "        -0.79518956,  0.187397  ,  0.28288707,  0.29798788, -1.0237788 ,\n",
       "         0.09285919,  0.4034005 ,  0.21139272,  0.6399452 ,  0.0045337 ,\n",
       "         0.5280395 ,  0.5712663 , -0.14381233,  0.52427876,  0.1988264 ,\n",
       "         0.30977455, -0.49725822, -0.14202464, -0.55086493,  0.01093318],\n",
       "       [ 0.10266726, -0.08544005, -0.04802398, -0.36481765, -0.00519822,\n",
       "        -0.45859224,  0.15021896,  0.24141894, -0.32764548, -0.6143212 ,\n",
       "        -0.36370927, -0.48972905,  0.19281018,  0.41908336, -0.39691988,\n",
       "         0.04001017,  0.24630964, -0.17804827, -0.41447493, -0.26963463,\n",
       "         0.12073009, -0.5257281 ,  0.0956967 ,  0.1210332 , -0.2076073 ,\n",
       "         0.31055346, -0.6547635 , -0.23880501, -0.7507984 , -0.13076042,\n",
       "         0.18760408,  0.40718725,  0.3505836 , -0.4812249 ,  0.26538187,\n",
       "         0.27824375,  0.2789672 , -0.19285816, -0.5524452 , -0.09371462,\n",
       "        -0.4458881 , -0.18603192, -0.71834075,  0.50240415,  0.28502652,\n",
       "         0.11368901, -0.25886825, -0.07298777,  0.09793807,  0.30239487,\n",
       "         0.38893625,  0.20754829, -0.40110153, -0.34388712, -0.21210736,\n",
       "         0.16936636,  0.00281849, -0.27903405, -0.00977299, -0.18515377,\n",
       "         0.1651103 , -0.5482888 ,  0.16390964,  0.10510071, -0.40257913,\n",
       "         0.3294284 ,  0.27809343, -0.13134326, -0.16905688,  0.48833215,\n",
       "        -0.7649717 ,  0.27524674, -0.02949921,  0.3149857 ,  0.64158297,\n",
       "         0.26811558, -0.26933244, -0.08690135, -0.28459176, -0.02592054,\n",
       "        -0.92643857,  0.09330344,  0.346804  ,  0.37722138, -1.0224805 ,\n",
       "        -0.0115224 ,  0.48617068,  0.11452137,  0.5800092 , -0.24344417,\n",
       "         0.63741475,  0.6109969 , -0.04374531,  0.48585692,  0.2446958 ,\n",
       "         0.12873584, -0.39324   , -0.20830968, -0.62836975,  0.02273991],\n",
       "       [ 0.06953505, -0.03657353,  0.06390236, -0.28285545, -0.03310103,\n",
       "        -0.46821943,  0.12394338,  0.4064891 , -0.3779962 , -0.54950565,\n",
       "        -0.2528197 , -0.5072404 ,  0.30695817,  0.4318699 , -0.36156857,\n",
       "         0.18352385,  0.21689884, -0.2976151 , -0.4960453 , -0.32868773,\n",
       "         0.08505617, -0.5022872 ,  0.00568732, -0.03677302, -0.17562109,\n",
       "         0.155846  , -0.61377746, -0.3372712 , -0.63313794, -0.13050753,\n",
       "         0.20903207,  0.25486773,  0.3623265 , -0.41273004,  0.14756663,\n",
       "         0.53205603,  0.33865896, -0.23751833, -0.41717258, -0.15384187,\n",
       "        -0.40758002, -0.15200196, -0.59650683,  0.4476959 ,  0.22901297,\n",
       "         0.11616468, -0.34891656, -0.13650125,  0.22182523,  0.3810176 ,\n",
       "         0.29768515,  0.10868271, -0.4492645 , -0.2136695 , -0.16332436,\n",
       "         0.21139236,  0.1258648 , -0.15512702,  0.11424839, -0.07426225,\n",
       "         0.14811279, -0.43793994,  0.195922  ,  0.10523815, -0.44666502,\n",
       "         0.2197037 ,  0.36128968, -0.14537683, -0.16159785,  0.34224615,\n",
       "        -0.633593  ,  0.14822365, -0.11814789,  0.25760397,  0.608241  ,\n",
       "         0.28010544, -0.16581483, -0.16315989, -0.3677041 ,  0.15751375,\n",
       "        -0.79895234,  0.19475545,  0.28045842,  0.2971213 , -1.0309297 ,\n",
       "         0.08673241,  0.41281253,  0.20930813,  0.63515514,  0.01230821,\n",
       "         0.52874804,  0.58148277, -0.13131595,  0.52122515,  0.2040726 ,\n",
       "         0.30941078, -0.49979252, -0.15113606, -0.5455354 ,  0.00761325]],\n",
       "      dtype=float32)"
      ]
     },
     "execution_count": 106,
     "metadata": {},
     "output_type": "execute_result"
    }
   ],
   "source": [
    "boss_final1 = lyrics_df.loc[lyrics_df['titulo'] == 'take me to church']\n",
    "boss_final = boss_final1['musica']\n",
    "\n",
    "modelo_teste = w2v(boss_final,min_count=1)\n",
    "w2vec_teste = dict(zip(model.wv.index_to_key, model.wv.vectors))\n",
    "modelw_teste = MeanEmbeddingVectorizer(w2vec_teste)\n",
    "boss_final_ = modelw_teste.transform(boss_final)\n",
    "boss_final_"
   ]
  },
  {
   "cell_type": "code",
   "execution_count": 110,
   "metadata": {},
   "outputs": [
    {
     "data": {
      "text/plain": [
       "array([4, 1, 4], dtype=int64)"
      ]
     },
     "execution_count": 110,
     "metadata": {},
     "output_type": "execute_result"
    }
   ],
   "source": [
    "regressao_modelo1.predict(boss_final_)  # Modelo que considera a quantidade de músicas por categoria"
   ]
  },
  {
   "cell_type": "code",
   "execution_count": 120,
   "metadata": {},
   "outputs": [
    {
     "data": {
      "text/plain": [
       "array([0, 1, 0], dtype=int64)"
      ]
     },
     "execution_count": 120,
     "metadata": {},
     "output_type": "execute_result"
    }
   ],
   "source": [
    "regressao_modelo2.predict(boss_final_)  # Modelo que não considera quantidade"
   ]
  },
  {
   "cell_type": "code",
   "execution_count": 115,
   "metadata": {},
   "outputs": [
    {
     "data": {
      "text/html": [
       "<div>\n",
       "<style scoped>\n",
       "    .dataframe tbody tr th:only-of-type {\n",
       "        vertical-align: middle;\n",
       "    }\n",
       "\n",
       "    .dataframe tbody tr th {\n",
       "        vertical-align: top;\n",
       "    }\n",
       "\n",
       "    .dataframe thead th {\n",
       "        text-align: right;\n",
       "    }\n",
       "</style>\n",
       "<table border=\"1\" class=\"dataframe\">\n",
       "  <thead>\n",
       "    <tr style=\"text-align: right;\">\n",
       "      <th></th>\n",
       "      <th>titulo</th>\n",
       "      <th>titulo tokenizado</th>\n",
       "      <th>musica completa</th>\n",
       "      <th>musica</th>\n",
       "      <th>genero</th>\n",
       "      <th>Target</th>\n",
       "    </tr>\n",
       "  </thead>\n",
       "  <tbody>\n",
       "    <tr>\n",
       "      <th>3645</th>\n",
       "      <td>take me to church</td>\n",
       "      <td>[take, me, to, church]</td>\n",
       "      <td>My lover's got humour\\nShe's the giggle at a f...</td>\n",
       "      <td>[lover, got, humour, giggl, funer, know, every...</td>\n",
       "      <td>pop rock</td>\n",
       "      <td>0</td>\n",
       "    </tr>\n",
       "    <tr>\n",
       "      <th>4946</th>\n",
       "      <td>take me to church</td>\n",
       "      <td>[take, me, to, church]</td>\n",
       "      <td>Yeah, yeah, yeah, yeah, yeah\\nMy lover's got h...</td>\n",
       "      <td>[yeah, yeah, yeah, yeah, yeah, lover, got, hum...</td>\n",
       "      <td>pop</td>\n",
       "      <td>0</td>\n",
       "    </tr>\n",
       "    <tr>\n",
       "      <th>6476</th>\n",
       "      <td>take me to church</td>\n",
       "      <td>[take, me, to, church]</td>\n",
       "      <td>My lover's got humour\\nShe's the giggle at a f...</td>\n",
       "      <td>[lover, got, humour, giggl, funer, know, every...</td>\n",
       "      <td>alternativo</td>\n",
       "      <td>2</td>\n",
       "    </tr>\n",
       "  </tbody>\n",
       "</table>\n",
       "</div>"
      ],
      "text/plain": [
       "                 titulo       titulo tokenizado  \\\n",
       "3645  take me to church  [take, me, to, church]   \n",
       "4946  take me to church  [take, me, to, church]   \n",
       "6476  take me to church  [take, me, to, church]   \n",
       "\n",
       "                                        musica completa  \\\n",
       "3645  My lover's got humour\\nShe's the giggle at a f...   \n",
       "4946  Yeah, yeah, yeah, yeah, yeah\\nMy lover's got h...   \n",
       "6476  My lover's got humour\\nShe's the giggle at a f...   \n",
       "\n",
       "                                                 musica       genero  Target  \n",
       "3645  [lover, got, humour, giggl, funer, know, every...     pop rock       0  \n",
       "4946  [yeah, yeah, yeah, yeah, yeah, lover, got, hum...          pop       0  \n",
       "6476  [lover, got, humour, giggl, funer, know, every...  alternativo       2  "
      ]
     },
     "execution_count": 115,
     "metadata": {},
     "output_type": "execute_result"
    }
   ],
   "source": [
    "boss_final1"
   ]
  },
  {
   "cell_type": "code",
   "execution_count": 119,
   "metadata": {},
   "outputs": [
    {
     "data": {
      "text/plain": [
       "\"Yeah, yeah, yeah, yeah, yeah\\nMy lover's got humour\\nShe's the giggle at a funeral\\nKnows everybody's disapproval\\nI should've worshipped her sooner\\n\\nIf the heavens ever did speak\\nShe is the last true mouthpiece\\nEvery Sunday's getting more bleak\\nA fresh poison each week\\n\\nWe were born sick\\nBut I love it\\nCommand me to be well\\nAmen, amen, amen\\n\\nTake me to church\\nI'll worship like a dog at the shrine of your lies\\nI'll tell you my sins\\nSo you can sharpen your knife\\nOffer me that deathless death\\nGood God, let me give you my life\\n\\nIf I'm a pagan of the good times\\nMy lover's the sunlight\\nTo keep the goddess on my side\\nShe demands a sacrifice\\nThat looks tasty\\nThat looks plenty\\nThis is hungry work\\n\\nTake me to church\\nI'll worship like a dog at the shrine of your lies\\nI'll tell you my sins\\nSo you can sharpen your knife\\nOffer me my deathless death\\nGood God, let me give you my life\\n\\nTake me to church\\nI'll worship like a dog at the shrine of your lies\\nI'll tell you my sins\\nSo you can sharpen your knife\\nOffer me my deathless death\\nGood God, let me give you my life\\nTake me to church\\nYeah, yeah, yeah, yeah, yeah\""
      ]
     },
     "execution_count": 119,
     "metadata": {},
     "output_type": "execute_result"
    }
   ],
   "source": [
    "boss_final1.iloc[1]['musica completa']"
   ]
  },
  {
   "attachments": {},
   "cell_type": "markdown",
   "metadata": {},
   "source": [
    "No caso acima, uma mesma música (regravada por artistas que tocam gêneros diferentes) resultou em classificações distintas pelo modelo treinado,\n",
    "provavelmente devido a pequenas alterações na letra, como a presença do trecho \"yeah, yeah, yeah\" na segunda música."
   ]
  }
 ],
 "metadata": {
  "kernelspec": {
   "display_name": "Python 3.9.13 64-bit (microsoft store)",
   "language": "python",
   "name": "python3"
  },
  "language_info": {
   "codemirror_mode": {
    "name": "ipython",
    "version": 3
   },
   "file_extension": ".py",
   "mimetype": "text/x-python",
   "name": "python",
   "nbconvert_exporter": "python",
   "pygments_lexer": "ipython3",
   "version": "3.9.13"
  },
  "orig_nbformat": 4,
  "vscode": {
   "interpreter": {
    "hash": "d9b8235acfa5f57bc84c8c4655b12f460938395c538d7ce7d348266f84149675"
   }
  }
 },
 "nbformat": 4,
 "nbformat_minor": 2
}
