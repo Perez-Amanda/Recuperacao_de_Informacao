{
 "cells": [
  {
   "attachments": {},
   "cell_type": "markdown",
   "metadata": {},
   "source": [
    "# Projeto Final de Sistemas de Recuperação de Informação - Relatório\n",
    "* **Nome:** Amanda de Mendonça Perez\n",
    "* **Matrícula:** 211708002\n",
    "\n",
    "## Introdução\n",
    "\n",
    "Este projeto tem como principal objetivo implementar ideias introduzidas no curso de Sistemas de Recuperação de Informação, do programa de mestrado em Modelagem Matemática da FGV/EMAp. Nesse sentido, foi orientado que o trabalho apresentado deveria ter tema livre, sendo contruído a partir de um corpus de escolha livre sobre o qual pudessem ser aplicados os conceitos vistos em aula. Tendo isso em vista, o objetivo escolhido para esse projeto foi de construir e treinar um modelo capaz de fazer classificações de textos, lidando com múltiplas categorias. O processo seguido para a realização do trabalho está descrito a seguir.\n",
    "\n",
    "---\n",
    "\n",
    "## Escolha do corpus\n",
    "\n",
    "Em um primeiro momento, pensou-se em utilizar o dataset ``ag_news_subset``, da biblioteca TensorFlow, que contém trechos de notícias (em inglês) e suas classificações segundo assunto (por exemplo, \"esportes\", \"ciência e tecnologia\", etc.). Contudo, apesar de o corpus apresentar uma grande quantidade de notícias, seus textos não estavam apresentados na íntegra, mas sim apenas resumos de poucas linhas da notícia. Em decorrência disso, optei por buscar outra base de dados que permitisse trabalhar com um problema semelhante: realizar uma classificação textual multiclasse.\n",
    "\n",
    "O novo problema encontrado foi realizar uma classificação de letras de música segundo gênero. Como não foi encontrado nenhum corpus variado e grande o suficiente sobre o assunto, optou-se por realizar um web scrapping, coletando letras de músicas do site [Letras.mus](https://www.letras.mus.br/) utilizando a biblioteca BeautifulSoup. A princípio, foi utilizada como base uma lista de url's que redirecionam para as páginas de diversos artistas presentes no site, que pode ser encontrada em https://github.com/vaaaltin/PLN/blob/master/Trabalho_2/artistas.txt. A partir disso, o código construído objetivava passar por todas as músicas de todos esses artistas a fim de gerar um corpus vasto o suficiente para que fossem realizadas boas análises. Entretanto, como a lista misturava artistas de diferentes idiomas e o script estava demorando muito para terminar de rodar (algumas horas para chegar quase a metade), optei por excluir manualmente artistas que não fossem de língua portuguesa. Essa primeira abordagem ao problema de construção do corpus pode ser encontrada no arquivo ``main.py`` e o resultado parcial em ``musicas.txt``, ambos na pasta *data*. \n",
    "\n",
    "Além dos problemas já citados, essa abordagem também dificultou a obtenção do gênero de cada música, uma vez que o html do site não continha essa informação de maneira muito clara para todos os artistas. Tendo isso em vista, foram selecionados apenas 49 artistas de língua inglesa cujo gênero musical pudesse ser encontrado no site Letras.mus, e foi criado o arquivo ``dataset.csv`` contendo os links para as páginas dos artistas selecionados e o gênero de suas músicas (que foram anotados manualmente). A partir desse novo conjunto de url's, foi feito um novo script (``dataset.py``), que realizou novamente o web scrapping, gerando o arquivo ``musicas_short.txt``, que já contém as categorias de cada música. O novo dataset contém 9340 músicas de 14 gêneros distintos e, desta vez, não demorou tanto tempo para ser gerado (apenas cerca de 30 minutos). Logo, optou-se por utilizá-lo como corpus escolhido para a realização do projeto.\n",
    "\n",
    "---\n",
    "\n",
    "## Implementação\n",
    "\n",
    "Primeiramente, foi necessário realizar os imports de todos os módulos e bibliotecas utilizadas. Além disso, foram já definidas algumas constantes. As principais bibliotecas utilizadas foram pandas, numpy, nltk, scikit learn e gensim (ao qual pertence o Word2Vec), bem como algumas bibliotecas auxiliares, como matplotlib, seaborn, etc.\n"
   ]
  },
  {
   "cell_type": "code",
   "execution_count": 83,
   "metadata": {},
   "outputs": [],
   "source": [
    "# imports\n",
    "import pandas as pd\n",
    "import numpy as np\n",
    "import nltk\n",
    "import string\n",
    "import matplotlib.pyplot as plt\n",
    "import seaborn as sns\n",
    "import random\n",
    "\n",
    "from nltk.corpus import stopwords\n",
    "from pathlib import Path\n",
    "from nltk import word_tokenize\n",
    "from nltk.tokenize import WordPunctTokenizer\n",
    "from nltk.stem.snowball import EnglishStemmer\n",
    "from gensim.models import Word2Vec as w2v\n",
    "from sklearn.model_selection import train_test_split\n",
    "from sklearn.linear_model import LogisticRegression\n",
    "from sklearn.preprocessing import LabelBinarizer\n",
    "from sklearn.metrics import RocCurveDisplay, classification_report, roc_auc_score, roc_curve, auc\n",
    "from collections import defaultdict\n",
    "from itertools import cycle\n",
    "\n",
    "\n",
    "# constantes\n",
    "ROOT = Path().absolute()\n",
    "txt_mus = open(ROOT/\"data/musicas_short.txt\", \"r\", encoding='utf-8')\n",
    "lyrics = txt_mus.read()\n",
    "sw = stopwords.words('english')\n",
    "plt.style.use('ggplot')"
   ]
  },
  {
   "attachments": {},
   "cell_type": "markdown",
   "metadata": {},
   "source": [
    "Em seguida, lendo o arquivo e armazenando as músicas e seus metadados em uma lista:"
   ]
  },
  {
   "cell_type": "code",
   "execution_count": 2,
   "metadata": {},
   "outputs": [],
   "source": [
    "# Lendo o arquivo de texto\n",
    "songs_list = lyrics.split(\"\\n\\nXXXXXXXXXX\\n\\n\")\n",
    "songs_list.pop()\n",
    "\n",
    "all_lyrics = []\n",
    "for song in songs_list:\n",
    "    lyrics1 = song.split(\"\\n---\\n\")\n",
    "    lyrics = lyrics1[0].split(\"\\n>> \") + [lyrics1[1]]\n",
    "    all_lyrics.append(lyrics)"
   ]
  },
  {
   "cell_type": "code",
   "execution_count": 7,
   "metadata": {},
   "outputs": [
    {
     "data": {
      "text/plain": [
       "[['Nervous',\n",
       "  'indie',\n",
       "  \"Maybe I shouldn't try to be perfect\\nI confess, I'm obsessed with the surface\\nIn the end, if I fall or if I get it all\\nI just hope that it's worth it\\n\\nLast year I fell flat on my face\\nAnd last month I knew somethin' should change\\nLast week I started over again\\nAsk me and I'll tell you how I've been\\nMhm, don't get me started\\n\\nYou got me nervous to speak\\nSo I just won't say anything at all\\nI've got an urge to release\\nAnd you keep tell me to hold on\\nYou got me nervous to move\\nSo I just won't give anything to you\\nYou got me turnin' all around to be who you need me to\\n\\nShould I be quiet?\\nCome on, be silent\\nYou know I'm tryin'\\nSo don't say nothin'\\n\\nTell me you trust me and\\nKiss me and hug me, yeah\\nI would do anything for ya\\nYou just gotta love me and\\n\\nI got an itch in my throat\\nI don't know which way to go\\nI keep on switchin', I know\\nI need a different approach\\nIt's all because I wanna\\nShow you that I'm so capable\\n\\nYou got me nervous to speak\\nSo I just won't say anything at all\\nI've got an urge to release\\nAnd you keep tell me to hold on\\nYou got me nervous to move\\nSo I just won't give anything to you\\nYou got me turnin' all around to be who you need me to\\n\\nHush, baby, don't you say another word\\nHush, baby, don't you say another word, be quiet\\nHush, baby, don't you say another word\\nHush, baby, when you do, I just get hurt\\n\\nCome on, baby, don't you hurt me anymore\\nI'm not the same way that I was before\\nI got goosebumps all over me\\n\\nWhen you're around, hard for me to breathe\\nCome on, baby, don't you do that anymore\\nIt's not like the days, at night, I feel so short\\nMy nerves, they give me a sign\\nTell me I'm not fine, mhm\\n\\nYou got me nervous to speak\\nSo I just won't say anything at all\\nI've got an urge to release\\nAnd you keep tell me to hold on\\n\\nYou got me nervous to move\\nSo I just won't give anything to you\\nYou got me turnin' all around\\nTo be who you need me to\\n\\nHush, baby, don't you say another word\\nHush, baby, don't you say another word, be quiet\\nHush, baby, don't you say another word\\nHush, baby, when you do I just get hurt\"],\n",
       " ['No Grey',\n",
       "  'indie',\n",
       "  \"Money, money, money\\n\\nFirst things first\\nI don't wanna be forgotten\\nEven worse\\nI don't wanna be alone\\n\\nBut if it all stops today\\nI'll probably say\\nI didn't waste a minute\\nWhen I'm finished\\n\\nBrand new faith\\nAnd I'm ready for the camera's mention\\nAnd all I pay\\nAnd my money and my damn attention\\n\\nDidn't get me the deal\\nGot me to feel\\nHow you would hear my sentence\\nWhen I'm finished\\n\\nYou could do it for the money, money, money\\nBut the money makes them all the same\\nEverything's sunny\\nBut the sunshine fades away\\n\\nEverything's black\\nAnd white\\nNo grey\\n\\nPitch black frames\\nYou can see me when I wear my lenses\\nAnd all they say\\nIs I'm fake and I don't get offended\\n\\nAnd when push comes to shove\\nI'll show enough\\nI didn't need to listen\\nWhen I'm finished\\n\\nYou're insane\\nWhat you said when I explain the game plan\\nNothing's changed\\nExcept a little more change in my hand\\n\\nNow I don't mean to brag\\nLife was in fact\\nNon-witness shows of women\\nIt's not finished\\n\\nYou could do it for the money, money, money\\nBut the money makes them all the same\\nEverything's sunny\\nBut the sunshine fades away\\n\\nEverything's black\\nAnd white\\nNo grey.\\n\\nYou ended up with gold\\nBut it started as a dream\\nIf I get cold\\nPut some honey in my tea\\n\\nI used to be broke, now there's money in my jeans\\n\\nI was broke now there's money in my jeans\\nI was broke now there's money in my jeans\\nI was broke now there's money in my jeans\\n\\nYou could do it for the money, money, money\\nBut the money makes them all the same\\nEverything's sunny\\nBut the sunshine fades away\\n\\nEverything's black\\nAnd white\\nNo grey\\n\\nEverything's black\\nAnd white\\nNo grey\"]]"
      ]
     },
     "execution_count": 7,
     "metadata": {},
     "output_type": "execute_result"
    }
   ],
   "source": [
    "# verificando a lista criada:\n",
    "all_lyrics[9151:9153]"
   ]
  },
  {
   "attachments": {},
   "cell_type": "markdown",
   "metadata": {},
   "source": [
    "Em seguida, foi necessário limpar e tokenizar os textos. O resultado obtido foi armazenado em um DataFrame."
   ]
  },
  {
   "cell_type": "code",
   "execution_count": 29,
   "metadata": {},
   "outputs": [
    {
     "data": {
      "text/html": [
       "<div>\n",
       "<style scoped>\n",
       "    .dataframe tbody tr th:only-of-type {\n",
       "        vertical-align: middle;\n",
       "    }\n",
       "\n",
       "    .dataframe tbody tr th {\n",
       "        vertical-align: top;\n",
       "    }\n",
       "\n",
       "    .dataframe thead th {\n",
       "        text-align: right;\n",
       "    }\n",
       "</style>\n",
       "<table border=\"1\" class=\"dataframe\">\n",
       "  <thead>\n",
       "    <tr style=\"text-align: right;\">\n",
       "      <th></th>\n",
       "      <th>titulo</th>\n",
       "      <th>titulo tokenizado</th>\n",
       "      <th>musica completa</th>\n",
       "      <th>musica</th>\n",
       "      <th>genero</th>\n",
       "    </tr>\n",
       "  </thead>\n",
       "  <tbody>\n",
       "    <tr>\n",
       "      <th>0</th>\n",
       "      <td>34+35</td>\n",
       "      <td>[34, 35]</td>\n",
       "      <td>Hmm\\n\\nYou might think I'm crazy\\nThe way I've...</td>\n",
       "      <td>[hmm, might, think, crazi, way, cravin, put, q...</td>\n",
       "      <td>pop</td>\n",
       "    </tr>\n",
       "    <tr>\n",
       "      <th>1</th>\n",
       "      <td>34+35 (remix) (feat. megan thee stallion &amp;amp;...</td>\n",
       "      <td>[34, 35, remix, feat, megan, thee, stallion, a...</td>\n",
       "      <td>[Ariana Grande]\\nHmm\\n\\nYou might think I'm cr...</td>\n",
       "      <td>[ariana, grand, hmm, might, think, crazi, way,...</td>\n",
       "      <td>pop</td>\n",
       "    </tr>\n",
       "    <tr>\n",
       "      <th>2</th>\n",
       "      <td>7 rings</td>\n",
       "      <td>[7, ring]</td>\n",
       "      <td>Yeah, breakfast at Tiffany's and bottles of bu...</td>\n",
       "      <td>[yeah, breakfast, tiffani, bottl, bubbl, girl,...</td>\n",
       "      <td>pop</td>\n",
       "    </tr>\n",
       "    <tr>\n",
       "      <th>3</th>\n",
       "      <td>7 rings (live)</td>\n",
       "      <td>[7, ring, live]</td>\n",
       "      <td>Thank you\\nDo you mind if we change our costum...</td>\n",
       "      <td>[thank, mind, chang, costum, real, fast, got, ...</td>\n",
       "      <td>pop</td>\n",
       "    </tr>\n",
       "    <tr>\n",
       "      <th>4</th>\n",
       "      <td>7 rings (remix) (feat. 2 chainz)</td>\n",
       "      <td>[7, ring, remix, feat, 2, chainz]</td>\n",
       "      <td>Yeah, breakfast at Tiffany's and bottles of bu...</td>\n",
       "      <td>[yeah, breakfast, tiffani, bottl, bubbl, girl,...</td>\n",
       "      <td>pop</td>\n",
       "    </tr>\n",
       "  </tbody>\n",
       "</table>\n",
       "</div>"
      ],
      "text/plain": [
       "                                              titulo  \\\n",
       "0                                              34+35   \n",
       "1  34+35 (remix) (feat. megan thee stallion &amp;...   \n",
       "2                                            7 rings   \n",
       "3                                     7 rings (live)   \n",
       "4                   7 rings (remix) (feat. 2 chainz)   \n",
       "\n",
       "                                   titulo tokenizado  \\\n",
       "0                                           [34, 35]   \n",
       "1  [34, 35, remix, feat, megan, thee, stallion, a...   \n",
       "2                                          [7, ring]   \n",
       "3                                    [7, ring, live]   \n",
       "4                  [7, ring, remix, feat, 2, chainz]   \n",
       "\n",
       "                                     musica completa  \\\n",
       "0  Hmm\\n\\nYou might think I'm crazy\\nThe way I've...   \n",
       "1  [Ariana Grande]\\nHmm\\n\\nYou might think I'm cr...   \n",
       "2  Yeah, breakfast at Tiffany's and bottles of bu...   \n",
       "3  Thank you\\nDo you mind if we change our costum...   \n",
       "4  Yeah, breakfast at Tiffany's and bottles of bu...   \n",
       "\n",
       "                                              musica genero  \n",
       "0  [hmm, might, think, crazi, way, cravin, put, q...    pop  \n",
       "1  [ariana, grand, hmm, might, think, crazi, way,...    pop  \n",
       "2  [yeah, breakfast, tiffani, bottl, bubbl, girl,...    pop  \n",
       "3  [thank, mind, chang, costum, real, fast, got, ...    pop  \n",
       "4  [yeah, breakfast, tiffani, bottl, bubbl, girl,...    pop  "
      ]
     },
     "execution_count": 29,
     "metadata": {},
     "output_type": "execute_result"
    }
   ],
   "source": [
    "# Limpando e tokenizando os textos\n",
    "swu = stopwords.words('english') + list(string.punctuation)\n",
    "stemmer = EnglishStemmer()\n",
    "\n",
    "clean_lyrics = {'titulo': [], 'titulo tokenizado':[], 'musica completa':[], 'musica':[], 'genero':[]}\n",
    "tokenizador = WordPunctTokenizer()\n",
    "\n",
    "for song in all_lyrics:\n",
    "    current_song = []\n",
    "    current_title = []\n",
    "    song_lower = song[2].lower()\n",
    "    title_lower = song[0].lower()\n",
    "    genre = song[1]\n",
    "    for token in tokenizador.tokenize(song_lower):\n",
    "        if (token not in swu):\n",
    "            current_song.append(stemmer.stem(token))\n",
    "    for token in tokenizador.tokenize(title_lower):\n",
    "        if (token not in list(string.punctuation)):\n",
    "            # Inclui apenas pontuação porque, como os títulos tendem a ter\n",
    "            # menos palavras (e, muitas delas, stopwords), perde-se muita\n",
    "            # informação ao excluir as stopwords.\n",
    "            current_title.append(stemmer.stem(token))\n",
    "    clean_lyrics['titulo'].append(title_lower)\n",
    "    clean_lyrics['titulo tokenizado'].append(current_title)\n",
    "    clean_lyrics['musica completa'].append(song[2])\n",
    "    clean_lyrics['musica'].append(current_song)\n",
    "    clean_lyrics['genero'].append(genre)\n",
    "\n",
    "lyrics_df = pd.DataFrame(data = clean_lyrics)\n",
    "lyrics_df.head()"
   ]
  },
  {
   "attachments": {},
   "cell_type": "markdown",
   "metadata": {},
   "source": [
    "Observe que, no código acima, optou-se por não exluir as stopwords dos títulos. A razão para isso é que, em uma primeira análise que descartou as stopwords, verificou-se que alguns título simplesmente não apresentavam mais nenhum token, pois eram compostos exclusivamente de stopwords (por exemplo, a música \"who am i\"). De fato, como são poucas palavras que estão presentes no título, mesmo stopwords trazem alguma informação sobre a música, de modo que faria sentido manter esses tokens ao limpar os textos. Em um sistema de recuperação de letras de música, por exemplo, seria razoável manter essa informação pois uma busca baseada no título da música poderia não ser bem sucedida se essas stopwords fossem descartadas. \n",
    "\n",
    "A partir do DataFrame acima, foram em seguida analisados os diferentes gêneros musicais nele presentes:"
   ]
  },
  {
   "cell_type": "code",
   "execution_count": 30,
   "metadata": {},
   "outputs": [
    {
     "data": {
      "text/plain": [
       "array(['pop', 'soul', 'indie', 'eletronica', 'pop rock', 'rock and roll',\n",
       "       'hard rock', 'reggae', 'heavy metal', 'gospel', 'hip hop/rap',\n",
       "       'punk rock', 'alternativo', 'folk'], dtype=object)"
      ]
     },
     "execution_count": 30,
     "metadata": {},
     "output_type": "execute_result"
    }
   ],
   "source": [
    "lyrics_df['genero'].unique()"
   ]
  },
  {
   "cell_type": "code",
   "execution_count": 31,
   "metadata": {},
   "outputs": [
    {
     "data": {
      "text/plain": [
       "genero\n",
       "pop rock         1345\n",
       "rock and roll    1310\n",
       "pop              1259\n",
       "gospel            965\n",
       "eletronica        902\n",
       "heavy metal       718\n",
       "hip hop/rap       698\n",
       "indie             642\n",
       "hard rock         461\n",
       "alternativo       319\n",
       "punk rock         295\n",
       "reggae            217\n",
       "soul              162\n",
       "folk               47\n",
       "Name: musica, dtype: int64"
      ]
     },
     "execution_count": 31,
     "metadata": {},
     "output_type": "execute_result"
    }
   ],
   "source": [
    "lyrics_df.groupby('genero').count()['musica'].sort_values(ascending=False)"
   ]
  },
  {
   "cell_type": "code",
   "execution_count": 32,
   "metadata": {},
   "outputs": [
    {
     "data": {
      "image/png": "[encoded data removed]",
      "text/plain": [
       "<Figure size 648x504 with 1 Axes>"
      ]
     },
     "metadata": {
      "needs_background": "light"
     },
     "output_type": "display_data"
    }
   ],
   "source": [
    "# Visualizando os dados acima\n",
    "target = lyrics_df.groupby('genero').count()['musica'].sort_values(ascending=False).index\n",
    "count = lyrics_df.groupby('genero').count()['musica'].sort_values(ascending=False).values\n",
    "\n",
    "plt.figure(figsize = (9, 7))\n",
    "sns.barplot(x=count, y=target, palette='tab10')\n",
    "plt.xlabel('Contagem', size=14)\n",
    "plt.ylabel('Gênero', size=14)\n",
    "plt.title('Quantidade de músicas por gênero\\n', size=18)\n",
    "plt.show()"
   ]
  },
  {
   "attachments": {},
   "cell_type": "markdown",
   "metadata": {},
   "source": [
    "### Tentativa de reorganizar as classificações e diminuir a quantidade de classes existentes\n",
    "\n",
    "Da breve análise realizada acima, pode-se notar que existem muitas classes a serem consideradas no modelo de classificação, e muitas delas são bem semelhantes entre si e/ou apresentam muito poucas ocorrências no dataset. Considerando essas observações, optou-se por fazer uma reorganização dos dados a fim de dimunuir o número de categorias e facilitar as análises.\n",
    "\n",
    "Para essa reorganização, foram primeiramente excluídos alguns gêneros com menos ocorrências e/ou menos informação contida nas letras (por exemplo, músicas eletrônicas, que em geral têm menos texto e são caracterizadas principalmente pelo ritmo e fatores que independem da letra). Além disso, músicas de gêneros que não conseguiram ser facilmente encaixados nas categorias criadas mais abaixo também foram descartados. Logo, foram excluídas as seguintes categorias:\n",
    "* eletrônica\n",
    "* reggae\n",
    "* heavy metal\n",
    "* punk rock\n",
    "* soul\n",
    "\n",
    "Em seguida, alguns gêneros semelhantes foram reunidos sob uma mesma categoria. Utiliazndo inteiros de 0 a 5, os gêneros presentes na tabela foram reagrupados da seguinte forma:\n",
    "* pop, pop rock -> pop (0)\n",
    "* rock and roll, hard rock -> rock (1)\n",
    "* indie, alternativo, folk -> indie/alternativo (2)\n",
    "* hip hop/rap -> hip hop/rap (3)\n",
    "* gospel -> gospel (4)\n",
    "* eletronica, reggae, heavy metal, punk rock, soul -> excluídos do dataframe (5)\n",
    "\n",
    "Aplicando a nova categorização:\n"
   ]
  },
  {
   "cell_type": "code",
   "execution_count": 33,
   "metadata": {},
   "outputs": [
    {
     "data": {
      "text/html": [
       "<div>\n",
       "<style scoped>\n",
       "    .dataframe tbody tr th:only-of-type {\n",
       "        vertical-align: middle;\n",
       "    }\n",
       "\n",
       "    .dataframe tbody tr th {\n",
       "        vertical-align: top;\n",
       "    }\n",
       "\n",
       "    .dataframe thead th {\n",
       "        text-align: right;\n",
       "    }\n",
       "</style>\n",
       "<table border=\"1\" class=\"dataframe\">\n",
       "  <thead>\n",
       "    <tr style=\"text-align: right;\">\n",
       "      <th></th>\n",
       "      <th>titulo</th>\n",
       "      <th>titulo tokenizado</th>\n",
       "      <th>musica completa</th>\n",
       "      <th>musica</th>\n",
       "      <th>genero</th>\n",
       "      <th>Target</th>\n",
       "    </tr>\n",
       "  </thead>\n",
       "  <tbody>\n",
       "    <tr>\n",
       "      <th>0</th>\n",
       "      <td>34+35</td>\n",
       "      <td>[34, 35]</td>\n",
       "      <td>Hmm\\n\\nYou might think I'm crazy\\nThe way I've...</td>\n",
       "      <td>[hmm, might, think, crazi, way, cravin, put, q...</td>\n",
       "      <td>pop</td>\n",
       "      <td>0</td>\n",
       "    </tr>\n",
       "    <tr>\n",
       "      <th>1</th>\n",
       "      <td>34+35 (remix) (feat. megan thee stallion &amp;amp;...</td>\n",
       "      <td>[34, 35, remix, feat, megan, thee, stallion, a...</td>\n",
       "      <td>[Ariana Grande]\\nHmm\\n\\nYou might think I'm cr...</td>\n",
       "      <td>[ariana, grand, hmm, might, think, crazi, way,...</td>\n",
       "      <td>pop</td>\n",
       "      <td>0</td>\n",
       "    </tr>\n",
       "    <tr>\n",
       "      <th>2</th>\n",
       "      <td>7 rings</td>\n",
       "      <td>[7, ring]</td>\n",
       "      <td>Yeah, breakfast at Tiffany's and bottles of bu...</td>\n",
       "      <td>[yeah, breakfast, tiffani, bottl, bubbl, girl,...</td>\n",
       "      <td>pop</td>\n",
       "      <td>0</td>\n",
       "    </tr>\n",
       "    <tr>\n",
       "      <th>3</th>\n",
       "      <td>7 rings (live)</td>\n",
       "      <td>[7, ring, live]</td>\n",
       "      <td>Thank you\\nDo you mind if we change our costum...</td>\n",
       "      <td>[thank, mind, chang, costum, real, fast, got, ...</td>\n",
       "      <td>pop</td>\n",
       "      <td>0</td>\n",
       "    </tr>\n",
       "    <tr>\n",
       "      <th>4</th>\n",
       "      <td>7 rings (remix) (feat. 2 chainz)</td>\n",
       "      <td>[7, ring, remix, feat, 2, chainz]</td>\n",
       "      <td>Yeah, breakfast at Tiffany's and bottles of bu...</td>\n",
       "      <td>[yeah, breakfast, tiffani, bottl, bubbl, girl,...</td>\n",
       "      <td>pop</td>\n",
       "      <td>0</td>\n",
       "    </tr>\n",
       "    <tr>\n",
       "      <th>...</th>\n",
       "      <td>...</td>\n",
       "      <td>...</td>\n",
       "      <td>...</td>\n",
       "      <td>...</td>\n",
       "      <td>...</td>\n",
       "      <td>...</td>\n",
       "    </tr>\n",
       "    <tr>\n",
       "      <th>9335</th>\n",
       "      <td>we all die trying to get it right</td>\n",
       "      <td>[we, all, die, tri, to, get, it, right]</td>\n",
       "      <td>Think you're in control until you're not\\nAnd ...</td>\n",
       "      <td>[think, control, love, find, place, alon, find...</td>\n",
       "      <td>folk</td>\n",
       "      <td>2</td>\n",
       "    </tr>\n",
       "    <tr>\n",
       "      <th>9336</th>\n",
       "      <td>we're going home</td>\n",
       "      <td>[we, re, go, home]</td>\n",
       "      <td>Under the surface you don't know what you'll f...</td>\n",
       "      <td>[surfac, know, find, hmm, time, second, chanc,...</td>\n",
       "      <td>folk</td>\n",
       "      <td>2</td>\n",
       "    </tr>\n",
       "    <tr>\n",
       "      <th>9337</th>\n",
       "      <td>where we start</td>\n",
       "      <td>[where, we, start]</td>\n",
       "      <td>Storm rolled in to our surprise\\nIt doesn't ra...</td>\n",
       "      <td>[storm, roll, surpris, rain, tall, tree, love,...</td>\n",
       "      <td>folk</td>\n",
       "      <td>2</td>\n",
       "    </tr>\n",
       "    <tr>\n",
       "      <th>9338</th>\n",
       "      <td>who am i</td>\n",
       "      <td>[who, am, i]</td>\n",
       "      <td>Hold me up to the light\\nTell me if the sun co...</td>\n",
       "      <td>[hold, light, tell, sun, come, shine, got, hea...</td>\n",
       "      <td>folk</td>\n",
       "      <td>2</td>\n",
       "    </tr>\n",
       "    <tr>\n",
       "      <th>9339</th>\n",
       "      <td>winds of change</td>\n",
       "      <td>[wind, of, chang]</td>\n",
       "      <td>I miss you more than you could know\\nI watch t...</td>\n",
       "      <td>[miss, could, know, watch, grass, back, lawn, ...</td>\n",
       "      <td>folk</td>\n",
       "      <td>2</td>\n",
       "    </tr>\n",
       "  </tbody>\n",
       "</table>\n",
       "<p>9340 rows × 6 columns</p>\n",
       "</div>"
      ],
      "text/plain": [
       "                                                 titulo  \\\n",
       "0                                                 34+35   \n",
       "1     34+35 (remix) (feat. megan thee stallion &amp;...   \n",
       "2                                               7 rings   \n",
       "3                                        7 rings (live)   \n",
       "4                      7 rings (remix) (feat. 2 chainz)   \n",
       "...                                                 ...   \n",
       "9335                  we all die trying to get it right   \n",
       "9336                                   we're going home   \n",
       "9337                                     where we start   \n",
       "9338                                           who am i   \n",
       "9339                                    winds of change   \n",
       "\n",
       "                                      titulo tokenizado  \\\n",
       "0                                              [34, 35]   \n",
       "1     [34, 35, remix, feat, megan, thee, stallion, a...   \n",
       "2                                             [7, ring]   \n",
       "3                                       [7, ring, live]   \n",
       "4                     [7, ring, remix, feat, 2, chainz]   \n",
       "...                                                 ...   \n",
       "9335            [we, all, die, tri, to, get, it, right]   \n",
       "9336                                 [we, re, go, home]   \n",
       "9337                                 [where, we, start]   \n",
       "9338                                       [who, am, i]   \n",
       "9339                                  [wind, of, chang]   \n",
       "\n",
       "                                        musica completa  \\\n",
       "0     Hmm\\n\\nYou might think I'm crazy\\nThe way I've...   \n",
       "1     [Ariana Grande]\\nHmm\\n\\nYou might think I'm cr...   \n",
       "2     Yeah, breakfast at Tiffany's and bottles of bu...   \n",
       "3     Thank you\\nDo you mind if we change our costum...   \n",
       "4     Yeah, breakfast at Tiffany's and bottles of bu...   \n",
       "...                                                 ...   \n",
       "9335  Think you're in control until you're not\\nAnd ...   \n",
       "9336  Under the surface you don't know what you'll f...   \n",
       "9337  Storm rolled in to our surprise\\nIt doesn't ra...   \n",
       "9338  Hold me up to the light\\nTell me if the sun co...   \n",
       "9339  I miss you more than you could know\\nI watch t...   \n",
       "\n",
       "                                                 musica genero  Target  \n",
       "0     [hmm, might, think, crazi, way, cravin, put, q...    pop       0  \n",
       "1     [ariana, grand, hmm, might, think, crazi, way,...    pop       0  \n",
       "2     [yeah, breakfast, tiffani, bottl, bubbl, girl,...    pop       0  \n",
       "3     [thank, mind, chang, costum, real, fast, got, ...    pop       0  \n",
       "4     [yeah, breakfast, tiffani, bottl, bubbl, girl,...    pop       0  \n",
       "...                                                 ...    ...     ...  \n",
       "9335  [think, control, love, find, place, alon, find...   folk       2  \n",
       "9336  [surfac, know, find, hmm, time, second, chanc,...   folk       2  \n",
       "9337  [storm, roll, surpris, rain, tall, tree, love,...   folk       2  \n",
       "9338  [hold, light, tell, sun, come, shine, got, hea...   folk       2  \n",
       "9339  [miss, could, know, watch, grass, back, lawn, ...   folk       2  \n",
       "\n",
       "[9340 rows x 6 columns]"
      ]
     },
     "execution_count": 33,
     "metadata": {},
     "output_type": "execute_result"
    }
   ],
   "source": [
    "dicio_target = {'pop':0, 'soul':5, 'indie':2, 'eletronica':5, 'pop rock':0, 'rock and roll':1,\\\n",
    "                'hard rock':1, 'reggae':5, 'heavy metal':5, 'gospel':4, 'hip hop/rap':3,\\\n",
    "                'punk rock':5, 'alternativo':2, 'folk':2}\n",
    "\n",
    "lyrics_df['Target'] = lyrics_df.apply(lambda x: dicio_target[x['genero']], axis=1)\n",
    "lyrics_df"
   ]
  },
  {
   "cell_type": "code",
   "execution_count": 34,
   "metadata": {},
   "outputs": [
    {
     "data": {
      "text/html": [
       "<div>\n",
       "<style scoped>\n",
       "    .dataframe tbody tr th:only-of-type {\n",
       "        vertical-align: middle;\n",
       "    }\n",
       "\n",
       "    .dataframe tbody tr th {\n",
       "        vertical-align: top;\n",
       "    }\n",
       "\n",
       "    .dataframe thead th {\n",
       "        text-align: right;\n",
       "    }\n",
       "</style>\n",
       "<table border=\"1\" class=\"dataframe\">\n",
       "  <thead>\n",
       "    <tr style=\"text-align: right;\">\n",
       "      <th></th>\n",
       "      <th>titulo</th>\n",
       "      <th>titulo tokenizado</th>\n",
       "      <th>musica completa</th>\n",
       "      <th>musica</th>\n",
       "      <th>genero</th>\n",
       "      <th>Target</th>\n",
       "    </tr>\n",
       "  </thead>\n",
       "  <tbody>\n",
       "    <tr>\n",
       "      <th>0</th>\n",
       "      <td>34+35</td>\n",
       "      <td>[34, 35]</td>\n",
       "      <td>Hmm\\n\\nYou might think I'm crazy\\nThe way I've...</td>\n",
       "      <td>[hmm, might, think, crazi, way, cravin, put, q...</td>\n",
       "      <td>pop</td>\n",
       "      <td>0</td>\n",
       "    </tr>\n",
       "    <tr>\n",
       "      <th>1</th>\n",
       "      <td>34+35 (remix) (feat. megan thee stallion &amp;amp;...</td>\n",
       "      <td>[34, 35, remix, feat, megan, thee, stallion, a...</td>\n",
       "      <td>[Ariana Grande]\\nHmm\\n\\nYou might think I'm cr...</td>\n",
       "      <td>[ariana, grand, hmm, might, think, crazi, way,...</td>\n",
       "      <td>pop</td>\n",
       "      <td>0</td>\n",
       "    </tr>\n",
       "    <tr>\n",
       "      <th>2</th>\n",
       "      <td>7 rings</td>\n",
       "      <td>[7, ring]</td>\n",
       "      <td>Yeah, breakfast at Tiffany's and bottles of bu...</td>\n",
       "      <td>[yeah, breakfast, tiffani, bottl, bubbl, girl,...</td>\n",
       "      <td>pop</td>\n",
       "      <td>0</td>\n",
       "    </tr>\n",
       "    <tr>\n",
       "      <th>3</th>\n",
       "      <td>7 rings (live)</td>\n",
       "      <td>[7, ring, live]</td>\n",
       "      <td>Thank you\\nDo you mind if we change our costum...</td>\n",
       "      <td>[thank, mind, chang, costum, real, fast, got, ...</td>\n",
       "      <td>pop</td>\n",
       "      <td>0</td>\n",
       "    </tr>\n",
       "    <tr>\n",
       "      <th>4</th>\n",
       "      <td>7 rings (remix) (feat. 2 chainz)</td>\n",
       "      <td>[7, ring, remix, feat, 2, chainz]</td>\n",
       "      <td>Yeah, breakfast at Tiffany's and bottles of bu...</td>\n",
       "      <td>[yeah, breakfast, tiffani, bottl, bubbl, girl,...</td>\n",
       "      <td>pop</td>\n",
       "      <td>0</td>\n",
       "    </tr>\n",
       "    <tr>\n",
       "      <th>...</th>\n",
       "      <td>...</td>\n",
       "      <td>...</td>\n",
       "      <td>...</td>\n",
       "      <td>...</td>\n",
       "      <td>...</td>\n",
       "      <td>...</td>\n",
       "    </tr>\n",
       "    <tr>\n",
       "      <th>7041</th>\n",
       "      <td>we all die trying to get it right</td>\n",
       "      <td>[we, all, die, tri, to, get, it, right]</td>\n",
       "      <td>Think you're in control until you're not\\nAnd ...</td>\n",
       "      <td>[think, control, love, find, place, alon, find...</td>\n",
       "      <td>folk</td>\n",
       "      <td>2</td>\n",
       "    </tr>\n",
       "    <tr>\n",
       "      <th>7042</th>\n",
       "      <td>we're going home</td>\n",
       "      <td>[we, re, go, home]</td>\n",
       "      <td>Under the surface you don't know what you'll f...</td>\n",
       "      <td>[surfac, know, find, hmm, time, second, chanc,...</td>\n",
       "      <td>folk</td>\n",
       "      <td>2</td>\n",
       "    </tr>\n",
       "    <tr>\n",
       "      <th>7043</th>\n",
       "      <td>where we start</td>\n",
       "      <td>[where, we, start]</td>\n",
       "      <td>Storm rolled in to our surprise\\nIt doesn't ra...</td>\n",
       "      <td>[storm, roll, surpris, rain, tall, tree, love,...</td>\n",
       "      <td>folk</td>\n",
       "      <td>2</td>\n",
       "    </tr>\n",
       "    <tr>\n",
       "      <th>7044</th>\n",
       "      <td>who am i</td>\n",
       "      <td>[who, am, i]</td>\n",
       "      <td>Hold me up to the light\\nTell me if the sun co...</td>\n",
       "      <td>[hold, light, tell, sun, come, shine, got, hea...</td>\n",
       "      <td>folk</td>\n",
       "      <td>2</td>\n",
       "    </tr>\n",
       "    <tr>\n",
       "      <th>7045</th>\n",
       "      <td>winds of change</td>\n",
       "      <td>[wind, of, chang]</td>\n",
       "      <td>I miss you more than you could know\\nI watch t...</td>\n",
       "      <td>[miss, could, know, watch, grass, back, lawn, ...</td>\n",
       "      <td>folk</td>\n",
       "      <td>2</td>\n",
       "    </tr>\n",
       "  </tbody>\n",
       "</table>\n",
       "<p>7046 rows × 6 columns</p>\n",
       "</div>"
      ],
      "text/plain": [
       "                                                 titulo  \\\n",
       "0                                                 34+35   \n",
       "1     34+35 (remix) (feat. megan thee stallion &amp;...   \n",
       "2                                               7 rings   \n",
       "3                                        7 rings (live)   \n",
       "4                      7 rings (remix) (feat. 2 chainz)   \n",
       "...                                                 ...   \n",
       "7041                  we all die trying to get it right   \n",
       "7042                                   we're going home   \n",
       "7043                                     where we start   \n",
       "7044                                           who am i   \n",
       "7045                                    winds of change   \n",
       "\n",
       "                                      titulo tokenizado  \\\n",
       "0                                              [34, 35]   \n",
       "1     [34, 35, remix, feat, megan, thee, stallion, a...   \n",
       "2                                             [7, ring]   \n",
       "3                                       [7, ring, live]   \n",
       "4                     [7, ring, remix, feat, 2, chainz]   \n",
       "...                                                 ...   \n",
       "7041            [we, all, die, tri, to, get, it, right]   \n",
       "7042                                 [we, re, go, home]   \n",
       "7043                                 [where, we, start]   \n",
       "7044                                       [who, am, i]   \n",
       "7045                                  [wind, of, chang]   \n",
       "\n",
       "                                        musica completa  \\\n",
       "0     Hmm\\n\\nYou might think I'm crazy\\nThe way I've...   \n",
       "1     [Ariana Grande]\\nHmm\\n\\nYou might think I'm cr...   \n",
       "2     Yeah, breakfast at Tiffany's and bottles of bu...   \n",
       "3     Thank you\\nDo you mind if we change our costum...   \n",
       "4     Yeah, breakfast at Tiffany's and bottles of bu...   \n",
       "...                                                 ...   \n",
       "7041  Think you're in control until you're not\\nAnd ...   \n",
       "7042  Under the surface you don't know what you'll f...   \n",
       "7043  Storm rolled in to our surprise\\nIt doesn't ra...   \n",
       "7044  Hold me up to the light\\nTell me if the sun co...   \n",
       "7045  I miss you more than you could know\\nI watch t...   \n",
       "\n",
       "                                                 musica genero  Target  \n",
       "0     [hmm, might, think, crazi, way, cravin, put, q...    pop       0  \n",
       "1     [ariana, grand, hmm, might, think, crazi, way,...    pop       0  \n",
       "2     [yeah, breakfast, tiffani, bottl, bubbl, girl,...    pop       0  \n",
       "3     [thank, mind, chang, costum, real, fast, got, ...    pop       0  \n",
       "4     [yeah, breakfast, tiffani, bottl, bubbl, girl,...    pop       0  \n",
       "...                                                 ...    ...     ...  \n",
       "7041  [think, control, love, find, place, alon, find...   folk       2  \n",
       "7042  [surfac, know, find, hmm, time, second, chanc,...   folk       2  \n",
       "7043  [storm, roll, surpris, rain, tall, tree, love,...   folk       2  \n",
       "7044  [hold, light, tell, sun, come, shine, got, hea...   folk       2  \n",
       "7045  [miss, could, know, watch, grass, back, lawn, ...   folk       2  \n",
       "\n",
       "[7046 rows x 6 columns]"
      ]
     },
     "execution_count": 34,
     "metadata": {},
     "output_type": "execute_result"
    }
   ],
   "source": [
    "# Excluindo a categoria 5\n",
    "lyrics_df = lyrics_df.loc[lyrics_df['Target'] != 5].reset_index().drop(columns='index')\n",
    "lyrics_df"
   ]
  },
  {
   "attachments": {},
   "cell_type": "markdown",
   "metadata": {},
   "source": [
    "### Breve análise exploratória dos dados\n",
    "\n",
    "Utilizando o dataset já limpo e recategorizado, foram construídos alguns gráficos a fim explorar as principais características dos dados. Esses dados também foram analisados no arquivo ``teste.ipynb``, onde foram obtidos alguns resultados interessantes que serão citados posteriormente neste relatório. Contudo, apenas as principais análises foram reproduzidas neste notebook atual.\n"
   ]
  },
  {
   "cell_type": "code",
   "execution_count": 21,
   "metadata": {},
   "outputs": [
    {
     "data": {
      "text/plain": [
       "Int64Index([0, 1, 2, 4, 3], dtype='int64', name='Target')"
      ]
     },
     "execution_count": 21,
     "metadata": {},
     "output_type": "execute_result"
    }
   ],
   "source": [
    "count_df = lyrics_df.groupby('Target').count()\n",
    "count_df = count_df['musica'].sort_values(ascending=False)\n",
    "count_df.index"
   ]
  },
  {
   "cell_type": "code",
   "execution_count": 22,
   "metadata": {},
   "outputs": [
    {
     "data": {
      "image/png": "[encoded data removed]",
      "text/plain": [
       "<Figure size 648x504 with 1 Axes>"
      ]
     },
     "metadata": {
      "needs_background": "light"
     },
     "output_type": "display_data"
    }
   ],
   "source": [
    "dicio_target = {0: 'pop',1:'rock',2:'indie', 3:'hip hop/rap', 4:'gospel'}\n",
    "target_int = count_df.index\n",
    "target = [dicio_target[idx] for idx in target_int.tolist()]\n",
    "count = count_df.values\n",
    "\n",
    "plt.figure(figsize = (9, 7))\n",
    "sns.barplot(x=count, y=target, palette='tab10')\n",
    "plt.xlabel('Contagem', size=14)\n",
    "plt.ylabel('Categoria', size=14)\n",
    "plt.title('Quantidade de músicas por categoria\\n', size=18)\n",
    "plt.show()"
   ]
  },
  {
   "attachments": {},
   "cell_type": "markdown",
   "metadata": {},
   "source": [
    "Note que, agora, todas as categorias restantes do corpus têm mais de 500 músicas cada, o que pode ser positivo para o treinamento do modelo."
   ]
  },
  {
   "attachments": {},
   "cell_type": "markdown",
   "metadata": {},
   "source": [
    "### Brincando com os modelos do Word2Vec\n",
    "\n",
    "A abordagem escolhida para realizar classificações automáticas foi a seguinte: utilizando os modelos do Word2Vec, da biblioteca gensim, cada palavra presente no dataset seria vetorizada (assim, teríamos apenas dados numéricos com os quais trabalhar) e, a partir disso, poderia ser feita uma regressão logística, treinada sobre os dados, que pudesse classificar novas músicas. Dessa forma, antes de implementar o modelo de fato, busquei testar os modelos do Word2Vec, verificando similaridade entre palavras. Os testes realizados estão apresentados a seguir:\n"
   ]
  },
  {
   "cell_type": "code",
   "execution_count": 35,
   "metadata": {},
   "outputs": [],
   "source": [
    "titles_list =  lyrics_df['titulo tokenizado'].tolist()\n",
    "lyrics_list = lyrics_df['musica'].tolist()"
   ]
  },
  {
   "cell_type": "code",
   "execution_count": 36,
   "metadata": {},
   "outputs": [],
   "source": [
    "titles_model = w2v(titles_list, min_count=5)\n",
    "lyrics_model = w2v(lyrics_list, min_count=25)\n",
    "\n",
    "def similar(word, where=1):\n",
    "    if where == 0:  # considera o título das músicas\n",
    "        similar = titles_model.wv.most_similar(stemmer.stem(word))\n",
    "    elif where == 1:  # considera a letra das músicas\n",
    "        similar = lyrics_model.wv.most_similar(stemmer.stem(word))\n",
    "    return similar"
   ]
  },
  {
   "cell_type": "code",
   "execution_count": 38,
   "metadata": {},
   "outputs": [
    {
     "data": {
      "text/plain": [
       "[('you', 0.9993304014205933),\n",
       " ('feat', 0.9993242621421814),\n",
       " ('i', 0.9991956353187561),\n",
       " ('amp', 0.9991948008537292),\n",
       " ('this', 0.9991876482963562),\n",
       " ('the', 0.9991825222969055),\n",
       " ('a', 0.9991616606712341),\n",
       " ('my', 0.9991461038589478),\n",
       " ('to', 0.9991381168365479),\n",
       " ('s', 0.9991151690483093)]"
      ]
     },
     "execution_count": 38,
     "metadata": {},
     "output_type": "execute_result"
    }
   ],
   "source": [
    "similar('love', where = 0)"
   ]
  },
  {
   "cell_type": "code",
   "execution_count": 40,
   "metadata": {},
   "outputs": [
    {
     "data": {
      "text/plain": [
       "[('fire', 0.9945343732833862),\n",
       " ('you', 0.9944453835487366),\n",
       " ('my', 0.9944217205047607),\n",
       " ('remix', 0.9944202899932861),\n",
       " ('with', 0.9942560195922852),\n",
       " ('feat', 0.9941890835762024),\n",
       " ('i', 0.9941650629043579),\n",
       " ('version', 0.9941440224647522),\n",
       " ('love', 0.9940650463104248),\n",
       " ('want', 0.994059681892395)]"
      ]
     },
     "execution_count": 40,
     "metadata": {},
     "output_type": "execute_result"
    }
   ],
   "source": [
    "similar('talk', where = 0)"
   ]
  },
  {
   "attachments": {},
   "cell_type": "markdown",
   "metadata": {},
   "source": [
    "Nota-se acima que a vetorização aplicada sobre os títulos parece não fornecer muita informação sobre as palavras, possivelmente devido à escolha de manter as stopwords. Contudo, utilizando as letras das músicas em si:\n"
   ]
  },
  {
   "cell_type": "code",
   "execution_count": 39,
   "metadata": {},
   "outputs": [
    {
     "data": {
      "text/plain": [
       "[('fail', 0.5785202383995056),\n",
       " ('overwhelm', 0.5121670365333557),\n",
       " ('lust', 0.5085773468017578),\n",
       " ('true', 0.508439302444458),\n",
       " ('modern', 0.49952781200408936),\n",
       " ('everlast', 0.49849531054496765),\n",
       " ('kind', 0.49648770689964294),\n",
       " ('darl', 0.48521867394447327),\n",
       " ('rescu', 0.4701109528541565),\n",
       " ('grace', 0.466376394033432)]"
      ]
     },
     "execution_count": 39,
     "metadata": {},
     "output_type": "execute_result"
    }
   ],
   "source": [
    "similar('love')"
   ]
  },
  {
   "cell_type": "code",
   "execution_count": 41,
   "metadata": {},
   "outputs": [
    {
     "data": {
      "text/plain": [
       "[('languag', 0.6126261949539185),\n",
       " ('tough', 0.5107820630073547),\n",
       " ('walk', 0.48812830448150635),\n",
       " ('talkin', 0.4688379466533661),\n",
       " ('listen', 0.466368705034256),\n",
       " ('relat', 0.4490041732788086),\n",
       " ('hush', 0.4480576515197754),\n",
       " ('marri', 0.441238671541214),\n",
       " ('curv', 0.4387700855731964),\n",
       " ('chat', 0.4383745789527893)]"
      ]
     },
     "execution_count": 41,
     "metadata": {},
     "output_type": "execute_result"
    }
   ],
   "source": [
    "similar('talk')"
   ]
  },
  {
   "cell_type": "code",
   "execution_count": 42,
   "metadata": {},
   "outputs": [
    {
     "data": {
      "text/plain": [
       "[('spend', 0.648094654083252),\n",
       " ('earn', 0.6321666836738586),\n",
       " ('bill', 0.6133579611778259),\n",
       " ('cash', 0.6060277819633484),\n",
       " ('dolla', 0.594891369342804),\n",
       " ('rent', 0.5896739959716797),\n",
       " ('makin', 0.5799252986907959),\n",
       " ('pay', 0.5627021193504333),\n",
       " ('dindu', 0.5571467876434326),\n",
       " ('dollar', 0.5487162470817566)]"
      ]
     },
     "execution_count": 42,
     "metadata": {},
     "output_type": "execute_result"
    }
   ],
   "source": [
    "similar('money')"
   ]
  },
  {
   "cell_type": "code",
   "execution_count": 43,
   "metadata": {},
   "outputs": [
    {
     "data": {
      "text/plain": [
       "[('buri', 0.6868449449539185),\n",
       " ('woke', 0.5424138307571411),\n",
       " ('headlin', 0.5126634836196899),\n",
       " ('death', 0.5008767247200012),\n",
       " ('led', 0.49564191699028015),\n",
       " ('bed', 0.4949278235435486),\n",
       " ('soon', 0.47804251313209534),\n",
       " ('arriv', 0.4777282476425171),\n",
       " ('awak', 0.4708567261695862),\n",
       " ('head', 0.4675960838794708)]"
      ]
     },
     "execution_count": 43,
     "metadata": {},
     "output_type": "execute_result"
    }
   ],
   "source": [
    "similar('dead')"
   ]
  },
  {
   "cell_type": "code",
   "execution_count": 44,
   "metadata": {},
   "outputs": [
    {
     "data": {
      "text/plain": [
       "[('bless', 0.868298351764679),\n",
       " ('almighti', 0.7874808311462402),\n",
       " ('emmanuel', 0.6627007126808167),\n",
       " ('reign', 0.6626602411270142),\n",
       " ('majesti', 0.6372019052505493),\n",
       " ('mighti', 0.6359822750091553),\n",
       " ('righteous', 0.6320130825042725),\n",
       " ('overcom', 0.6234685182571411),\n",
       " ('exalt', 0.6192553043365479),\n",
       " ('declar', 0.6185216307640076)]"
      ]
     },
     "execution_count": 44,
     "metadata": {},
     "output_type": "execute_result"
    }
   ],
   "source": [
    "similar('god')"
   ]
  },
  {
   "attachments": {},
   "cell_type": "markdown",
   "metadata": {},
   "source": [
    "As palavras semelhantes retornadas pelo modelo aparentam ter de fato alguma relação com a palavra de cada query, indicando que o modelo de vetorização do Word2Vec parece ter se ajustado bem ao corpus utilizado. Contudo, nota-se que o primeiro caso verificado (palavra \"love\") aparenta retornar muitas palavras não tão relacionadas entre si. Uma possível explicação é o fato de \"love\" ser altamente recorrente em todos os gêneros do dataset. \n",
    "\n",
    "No notebook de teste, no qual foi feita uma exploração inicial dos dados, verficou-se que justamente \"love\" é uma das palavras mais recorrentes em cada um dos gêneros, sendo a primeira mais frequente em boa parte deles. Isso pode implicar uma variedade significados atribuídos à palavra e uma variedade de contextos nos quais ela é utilizado, levando associações não tão relacionadas entre si.\n"
   ]
  },
  {
   "attachments": {},
   "cell_type": "markdown",
   "metadata": {},
   "source": [
    "### Usando Word2Vec para fazer a classificação\n",
    "\n",
    "Por fim, a partir do modelo de vetorização explorado acima, foram treinados dois modelos que se utilizam de regressão logística para lidar com a classifição das músicas. Primeiramente, os dados foram separados em conjunto de treinamento e teste, utilizando uma proporção de 70% e 30% para cada conjunto, respectivamente.\n"
   ]
  },
  {
   "cell_type": "code",
   "execution_count": 45,
   "metadata": {},
   "outputs": [],
   "source": [
    "# Separando conjunto de treinamento e de teste:\n",
    "X_train, X_test, y_train, y_test = train_test_split(lyrics_df['musica'], lyrics_df['Target'], test_size=0.3, shuffle=True)"
   ]
  },
  {
   "attachments": {},
   "cell_type": "markdown",
   "metadata": {},
   "source": [
    "Verificando a \"aparência\" dos conjuntos obtidos:"
   ]
  },
  {
   "cell_type": "code",
   "execution_count": 46,
   "metadata": {},
   "outputs": [
    {
     "data": {
      "text/plain": [
       "1767    [doubt, must, love, one, littl, kiss, feel, gl...\n",
       "5952    [sing, everyth, alway, tell, world, everyth, d...\n",
       "5245    [young, girl, leyt, dress, hand, down, scrub, ...\n",
       "5581    [let, repeat, non, conformist, oath, promis, d...\n",
       "2154    [feel, good, babi, feel, good, babi, caus, bra...\n",
       "                              ...                        \n",
       "6241    [melt, hardest, heart, speak, life, soul, spin...\n",
       "3106    [california, queen, caffein, smile, look, eye,...\n",
       "1948    [care, spent, dough, night, gonna, gonna, rock...\n",
       "6178    [let, say, much, love, let, speak, merci, grac...\n",
       "2294    [diamond, ring, wear, hand, gonna, tell, world...\n",
       "Name: musica, Length: 4932, dtype: object"
      ]
     },
     "execution_count": 46,
     "metadata": {},
     "output_type": "execute_result"
    }
   ],
   "source": [
    "X_train "
   ]
  },
  {
   "cell_type": "code",
   "execution_count": 47,
   "metadata": {},
   "outputs": [
    {
     "data": {
      "text/plain": [
       "1767    1\n",
       "5952    4\n",
       "5245    2\n",
       "5581    2\n",
       "2154    0\n",
       "       ..\n",
       "6241    4\n",
       "3106    0\n",
       "1948    1\n",
       "6178    4\n",
       "2294    1\n",
       "Name: Target, Length: 4932, dtype: int64"
      ]
     },
     "execution_count": 47,
     "metadata": {},
     "output_type": "execute_result"
    }
   ],
   "source": [
    "y_train "
   ]
  },
  {
   "attachments": {},
   "cell_type": "markdown",
   "metadata": {},
   "source": [
    "Em seguida, vetorizando as palavras de cada música e, assim, tornando o dataset compatível com o formato utilizado pelos modelos do scikit learn:"
   ]
  },
  {
   "cell_type": "code",
   "execution_count": 48,
   "metadata": {},
   "outputs": [],
   "source": [
    "# Deixando os dados no formato necessário para a aplicação dos modelos do scikit learn\n",
    "class MeanEmbeddingVectorizer(object):\n",
    "    def __init__(self, word2vec):\n",
    "        self.word2vec = word2vec\n",
    "        self.dim = len(next(iter(word2vec.values())))\n",
    "\n",
    "    def transform(self, X):\n",
    "        '''\n",
    "        Transforma os dados textuais em dados numéricos, vetorizando as palavras\n",
    "        de cada música.\n",
    "        '''\n",
    "        return np.array([np.mean([self.word2vec[w] for w in words if w in self.word2vec] \\\n",
    "            or [np.zeros(self.dim)], axis=0) for words in X])\n",
    "\n",
    "model = w2v(lyrics_df['musica'], min_count=1)\n",
    "w2vec = dict(zip(model.wv.index_to_key, model.wv.vectors))\n",
    "modelw = MeanEmbeddingVectorizer(w2vec)\n",
    "X_train_ = modelw.transform(X_train)\n",
    "X_test_ = modelw.transform(X_test)"
   ]
  },
  {
   "attachments": {},
   "cell_type": "markdown",
   "metadata": {},
   "source": [
    "Verificando o novo conjunto de treinamento:"
   ]
  },
  {
   "cell_type": "code",
   "execution_count": 49,
   "metadata": {},
   "outputs": [
    {
     "data": {
      "text/plain": [
       "array([[ 0.05881164, -0.18864904,  0.10373628, ..., -0.26071638,\n",
       "        -0.55475259,  0.11826897],\n",
       "       [-0.35326159,  0.075444  ,  0.6349746 , ..., -0.60220677,\n",
       "        -0.53874356,  0.53071165],\n",
       "       [ 0.1225083 ,  0.01182796, -0.12874581, ..., -0.15329836,\n",
       "        -0.4445301 ,  0.12467494],\n",
       "       ...,\n",
       "       [ 0.24339695, -0.20853482,  0.32600909, ..., -0.59256649,\n",
       "         0.08867235, -0.34103894],\n",
       "       [ 0.05351052, -0.0009377 ,  0.68615288, ..., -0.57092041,\n",
       "        -0.41798797,  0.35612881],\n",
       "       [-0.12282274,  0.04957513,  0.41302931, ..., -0.33576927,\n",
       "        -0.38705555, -0.18874337]])"
      ]
     },
     "execution_count": 49,
     "metadata": {},
     "output_type": "execute_result"
    }
   ],
   "source": [
    "X_train_ "
   ]
  },
  {
   "attachments": {},
   "cell_type": "markdown",
   "metadata": {},
   "source": [
    "Após preparar os dados, resta agora treinar os modelos. Para tanto, foi utilizada a biblioteca scikit learn, que já fornace modelos prontos e fáceis de serem aplicados sobre os dados. Como estamos lidando com dados categóricos, o modelo de regressão logística foi escolhido para tratar o problema. Além disso, por estarmos lidando com múltiplas classes (mais especificamente, 5), foi necessário utilizar como solver alguma alternativa capaz de tratar problemas multiclasse. No caso, foi escolhido o solver \"newton-cg\".\n",
    "\n",
    "Os modelos do scikit learn permitem ainda utilizar outros argumentos, porém boa parte deles foram apenas utilizados segundo o padrão da própria biblioteca. Entretanto, o argumento ``class_weight`` se mostrou promissor em ser passado um valor próprio, pois permite que sejam atribuídos pesos para as classes. Nesse sentido, foram treinados dois modelos: o primeiro (``regressao_modelo1``) leva em consideração a diferença no número de ocorrências\n",
    "dentro de cada classe, atribuindo pesos distintos para cada categoria a depender desse valor; já o segundo modelo (``regressao_modelo2``)\n",
    "não o faz, utilizando peso 1 para todas as categorias, conforme o padrão do scikit learn.\n",
    "\n",
    "Assim, treinando os modelos propostos:"
   ]
  },
  {
   "cell_type": "code",
   "execution_count": 51,
   "metadata": {},
   "outputs": [
    {
     "data": {
      "text/html": [
       "<style>#sk-container-id-1 {color: black;background-color: white;}#sk-container-id-1 pre{padding: 0;}#sk-container-id-1 div.sk-toggleable {background-color: white;}#sk-container-id-1 label.sk-toggleable__label {cursor: pointer;display: block;width: 100%;margin-bottom: 0;padding: 0.3em;box-sizing: border-box;text-align: center;}#sk-container-id-1 label.sk-toggleable__label-arrow:before {content: \"▸\";float: left;margin-right: 0.25em;color: #696969;}#sk-container-id-1 label.sk-toggleable__label-arrow:hover:before {color: black;}#sk-container-id-1 div.sk-estimator:hover label.sk-toggleable__label-arrow:before {color: black;}#sk-container-id-1 div.sk-toggleable__content {max-height: 0;max-width: 0;overflow: hidden;text-align: left;background-color: #f0f8ff;}#sk-container-id-1 div.sk-toggleable__content pre {margin: 0.2em;color: black;border-radius: 0.25em;background-color: #f0f8ff;}#sk-container-id-1 input.sk-toggleable__control:checked~div.sk-toggleable__content {max-height: 200px;max-width: 100%;overflow: auto;}#sk-container-id-1 input.sk-toggleable__control:checked~label.sk-toggleable__label-arrow:before {content: \"▾\";}#sk-container-id-1 div.sk-estimator input.sk-toggleable__control:checked~label.sk-toggleable__label {background-color: #d4ebff;}#sk-container-id-1 div.sk-label input.sk-toggleable__control:checked~label.sk-toggleable__label {background-color: #d4ebff;}#sk-container-id-1 input.sk-hidden--visually {border: 0;clip: rect(1px 1px 1px 1px);clip: rect(1px, 1px, 1px, 1px);height: 1px;margin: -1px;overflow: hidden;padding: 0;position: absolute;width: 1px;}#sk-container-id-1 div.sk-estimator {font-family: monospace;background-color: #f0f8ff;border: 1px dotted black;border-radius: 0.25em;box-sizing: border-box;margin-bottom: 0.5em;}#sk-container-id-1 div.sk-estimator:hover {background-color: #d4ebff;}#sk-container-id-1 div.sk-parallel-item::after {content: \"\";width: 100%;border-bottom: 1px solid gray;flex-grow: 1;}#sk-container-id-1 div.sk-label:hover label.sk-toggleable__label {background-color: #d4ebff;}#sk-container-id-1 div.sk-serial::before {content: \"\";position: absolute;border-left: 1px solid gray;box-sizing: border-box;top: 0;bottom: 0;left: 50%;z-index: 0;}#sk-container-id-1 div.sk-serial {display: flex;flex-direction: column;align-items: center;background-color: white;padding-right: 0.2em;padding-left: 0.2em;position: relative;}#sk-container-id-1 div.sk-item {position: relative;z-index: 1;}#sk-container-id-1 div.sk-parallel {display: flex;align-items: stretch;justify-content: center;background-color: white;position: relative;}#sk-container-id-1 div.sk-item::before, #sk-container-id-1 div.sk-parallel-item::before {content: \"\";position: absolute;border-left: 1px solid gray;box-sizing: border-box;top: 0;bottom: 0;left: 50%;z-index: -1;}#sk-container-id-1 div.sk-parallel-item {display: flex;flex-direction: column;z-index: 1;position: relative;background-color: white;}#sk-container-id-1 div.sk-parallel-item:first-child::after {align-self: flex-end;width: 50%;}#sk-container-id-1 div.sk-parallel-item:last-child::after {align-self: flex-start;width: 50%;}#sk-container-id-1 div.sk-parallel-item:only-child::after {width: 0;}#sk-container-id-1 div.sk-dashed-wrapped {border: 1px dashed gray;margin: 0 0.4em 0.5em 0.4em;box-sizing: border-box;padding-bottom: 0.4em;background-color: white;}#sk-container-id-1 div.sk-label label {font-family: monospace;font-weight: bold;display: inline-block;line-height: 1.2em;}#sk-container-id-1 div.sk-label-container {text-align: center;}#sk-container-id-1 div.sk-container {/* jupyter's `normalize.less` sets `[hidden] { display: none; }` but bootstrap.min.css set `[hidden] { display: none !important; }` so we also need the `!important` here to be able to override the default hidden behavior on the sphinx rendered scikit-learn.org. See: https://github.com/scikit-learn/scikit-learn/issues/21755 */display: inline-block !important;position: relative;}#sk-container-id-1 div.sk-text-repr-fallback {display: none;}</style><div id=\"sk-container-id-1\" class=\"sk-top-container\"><div class=\"sk-text-repr-fallback\"><pre>LogisticRegression(solver=&#x27;newton-cg&#x27;)</pre><b>In a Jupyter environment, please rerun this cell to show the HTML representation or trust the notebook. <br />On GitHub, the HTML representation is unable to render, please try loading this page with nbviewer.org.</b></div><div class=\"sk-container\" hidden><div class=\"sk-item\"><div class=\"sk-estimator sk-toggleable\"><input class=\"sk-toggleable__control sk-hidden--visually\" id=\"sk-estimator-id-1\" type=\"checkbox\" checked><label for=\"sk-estimator-id-1\" class=\"sk-toggleable__label sk-toggleable__label-arrow\">LogisticRegression</label><div class=\"sk-toggleable__content\"><pre>LogisticRegression(solver=&#x27;newton-cg&#x27;)</pre></div></div></div></div></div>"
      ],
      "text/plain": [
       "LogisticRegression(solver='newton-cg')"
      ]
     },
     "execution_count": 51,
     "metadata": {},
     "output_type": "execute_result"
    }
   ],
   "source": [
    "# Definindo os modelos:\n",
    "regressao_modelo1 = LogisticRegression(solver = 'newton-cg', class_weight='balanced')\n",
    "regressao_modelo2 = LogisticRegression(solver = 'newton-cg')\n",
    "# Treinando os modelos:\n",
    "regressao_modelo1.fit(X_train_, y_train)\n",
    "regressao_modelo2.fit(X_train_, y_train)"
   ]
  },
  {
   "attachments": {},
   "cell_type": "markdown",
   "metadata": {},
   "source": [
    "Utilizando os modelos treinados para fazer predições sobre o conjunto de teste:"
   ]
  },
  {
   "cell_type": "code",
   "execution_count": 52,
   "metadata": {},
   "outputs": [],
   "source": [
    "y_pred1 = regressao_modelo1.predict(X_test_)\n",
    "y_pred2 = regressao_modelo2.predict(X_test_)"
   ]
  },
  {
   "attachments": {},
   "cell_type": "markdown",
   "metadata": {},
   "source": [
    "\n",
    "---\n",
    "\n",
    "## Avaliando os modelos\n",
    "\n",
    "Finalmente, utilizando as métricas disponibilizadas pelo scikit learn, podemos comparar os dois modelos e verificar o quão bons foram os resultados obtidos.\n"
   ]
  },
  {
   "cell_type": "code",
   "execution_count": 53,
   "metadata": {},
   "outputs": [
    {
     "name": "stdout",
     "output_type": "stream",
     "text": [
      ">> Modelo 1 (considerando diferença no tamanho das classes):\n",
      "\n",
      "               precision    recall  f1-score   support\n",
      "\n",
      "           0       0.61      0.34      0.44       782\n",
      "           1       0.52      0.50      0.51       519\n",
      "           2       0.29      0.46      0.35       312\n",
      "           3       0.47      0.79      0.59       207\n",
      "           4       0.83      0.93      0.88       294\n",
      "\n",
      "    accuracy                           0.52      2114\n",
      "   macro avg       0.54      0.60      0.55      2114\n",
      "weighted avg       0.56      0.52      0.52      2114\n",
      " \n",
      "---\n",
      " \n",
      ">> Modelo 2 (não considerando diferença no tamanho das classes):\n",
      "\n",
      "               precision    recall  f1-score   support\n",
      "\n",
      "           0       0.52      0.68      0.59       782\n",
      "           1       0.50      0.49      0.50       519\n",
      "           2       0.31      0.11      0.16       312\n",
      "           3       0.67      0.57      0.61       207\n",
      "           4       0.88      0.87      0.87       294\n",
      "\n",
      "    accuracy                           0.57      2114\n",
      "   macro avg       0.58      0.54      0.55      2114\n",
      "weighted avg       0.55      0.57      0.54      2114\n",
      "\n"
     ]
    }
   ],
   "source": [
    "print('>> Modelo 1 (considerando diferença no tamanho das classes):\\n\\n', classification_report(y_test, y_pred1), \\\n",
    "    '\\n---\\n', '\\n>> Modelo 2 (não considerando diferença no tamanho das classes):\\n\\n', classification_report(y_test, y_pred2))"
   ]
  },
  {
   "attachments": {},
   "cell_type": "markdown",
   "metadata": {},
   "source": [
    "Segundo modelo: recall bem baixo -> o modelo deixou passar muitas músicas da categoria indie/alternativa\n",
    "\n",
    "Ambos os modelos foram piores para lidar com a categoria indie/alternativa, foram melhores (porém ainda ruins) para lidar com as categorias\n",
    "pop, rock e hip hop/rap, mas apresentaram ótimos resultados lidando com a categoria gospel."
   ]
  },
  {
   "attachments": {},
   "cell_type": "markdown",
   "metadata": {},
   "source": [
    "### Roc curve"
   ]
  },
  {
   "cell_type": "code",
   "execution_count": 56,
   "metadata": {},
   "outputs": [
    {
     "data": {
      "text/plain": [
       "array([[5.65751039e-01, 2.62246612e-01, 1.66846859e-01, 4.00963088e-03,\n",
       "        1.14585870e-03],\n",
       "       [5.95935674e-01, 1.08866621e-01, 2.86862503e-01, 8.23516042e-03,\n",
       "        1.00041978e-04],\n",
       "       [2.92979305e-01, 5.92463540e-02, 1.97008569e-01, 4.49813161e-01,\n",
       "        9.52611104e-04],\n",
       "       ...,\n",
       "       [2.84356983e-01, 3.35684430e-01, 1.08980840e-01, 2.70281600e-01,\n",
       "        6.96145983e-04],\n",
       "       [6.02228953e-02, 6.05769864e-02, 9.23144832e-02, 2.02407574e-02,\n",
       "        7.66644878e-01],\n",
       "       [2.36806276e-01, 5.35564950e-01, 2.25454426e-01, 2.12605360e-03,\n",
       "        4.82933802e-05]])"
      ]
     },
     "execution_count": 56,
     "metadata": {},
     "output_type": "execute_result"
    }
   ],
   "source": [
    "# Calculando as probabilidades de cada música pertencer a um gênero ou outro\n",
    "y_score1 = regressao_modelo1.predict_proba(X_test_)\n",
    "y_score2 = regressao_modelo2.predict_proba(X_test_)\n",
    "y_score1"
   ]
  },
  {
   "cell_type": "code",
   "execution_count": 84,
   "metadata": {},
   "outputs": [
    {
     "data": {
      "text/plain": [
       "(2114, 5)"
      ]
     },
     "execution_count": 84,
     "metadata": {},
     "output_type": "execute_result"
    }
   ],
   "source": [
    "label_binarizer = LabelBinarizer().fit(y_train)\n",
    "y_onehot_test = label_binarizer.transform(y_test)\n",
    "y_onehot_test.shape  # (n_amostras, n_classes)"
   ]
  },
  {
   "cell_type": "code",
   "execution_count": 85,
   "metadata": {},
   "outputs": [
    {
     "data": {
      "image/png": "[encoded data removed]",
      "text/plain": [
       "<Figure size 432x288 with 1 Axes>"
      ]
     },
     "metadata": {},
     "output_type": "display_data"
    }
   ],
   "source": [
    "RocCurveDisplay.from_predictions(\n",
    "    y_onehot_test[:, 4],\n",
    "    y_score1[:, 4],\n",
    "    name=f\"Gospel vs the rest\",\n",
    "    color=\"darkorange\",\n",
    ")\n",
    "plt.plot([0, 1], [0, 1], \"k--\", label=\"chance level (AUC = 0.5)\")\n",
    "plt.axis(\"square\")\n",
    "plt.xlabel(\"False Positive Rate\")\n",
    "plt.ylabel(\"True Positive Rate\")\n",
    "plt.title(\"One-vs-Rest ROC curves:\\n Gospel vs (Pop & Rock & Indie & Hip hop/rap)\")\n",
    "plt.legend()\n",
    "plt.show()"
   ]
  },
  {
   "cell_type": "code",
   "execution_count": 86,
   "metadata": {},
   "outputs": [
    {
     "data": {
      "image/png": "[encoded data removed]",
      "text/plain": [
       "<Figure size 432x288 with 1 Axes>"
      ]
     },
     "metadata": {},
     "output_type": "display_data"
    }
   ],
   "source": [
    "RocCurveDisplay.from_predictions(\n",
    "    y_onehot_test[:, 1],\n",
    "    y_score2[:, 1],\n",
    "    name=f\"Indie/alternativo vs the rest\",\n",
    "    color=\"darkorange\",\n",
    ")\n",
    "plt.plot([0, 1], [0, 1], \"k--\", label=\"chance level (AUC = 0.5)\")\n",
    "plt.axis(\"square\")\n",
    "plt.xlabel(\"False Positive Rate\")\n",
    "plt.ylabel(\"True Positive Rate\")\n",
    "plt.title(\"One-vs-Rest ROC curves:\\n Indie vs (Rock & Pop & Hip hop/rap & Gospel)\")\n",
    "plt.legend()\n",
    "plt.show()"
   ]
  },
  {
   "attachments": {},
   "cell_type": "markdown",
   "metadata": {},
   "source": [
    "#### Para o primeiro modelo:"
   ]
  },
  {
   "cell_type": "code",
   "execution_count": 87,
   "metadata": {},
   "outputs": [
    {
     "name": "stdout",
     "output_type": "stream",
     "text": [
      "Macro-averaged One-vs-Rest ROC AUC score:\n",
      "0.82\n",
      "Micro-averaged One-vs-Rest ROC AUC score:\n",
      "0.84\n"
     ]
    }
   ],
   "source": [
    "fpr, tpr, roc_auc = dict(), dict(), dict()\n",
    "\n",
    "# micro\n",
    "fpr[\"micro\"], tpr[\"micro\"], _ = roc_curve(y_onehot_test.ravel(), y_score1.ravel())\n",
    "roc_auc[\"micro\"] = auc(fpr[\"micro\"], tpr[\"micro\"])\n",
    "\n",
    "# macro\n",
    "for i in range(5):\n",
    "    fpr[i], tpr[i], _ = roc_curve(y_onehot_test[:, i], y_score1[:, i])\n",
    "    roc_auc[i] = auc(fpr[i], tpr[i])\n",
    "\n",
    "fpr_grid = np.linspace(0.0, 1.0, 1000)\n",
    "\n",
    "# Interpolate all ROC curves at these points\n",
    "mean_tpr = np.zeros_like(fpr_grid)\n",
    "\n",
    "for i in range(5):\n",
    "    mean_tpr += np.interp(fpr_grid, fpr[i], tpr[i])  # interpolação linear\n",
    "\n",
    "mean_tpr /= 5\n",
    "\n",
    "fpr[\"macro\"] = fpr_grid\n",
    "tpr[\"macro\"] = mean_tpr\n",
    "roc_auc[\"macro\"] = auc(fpr[\"macro\"], tpr[\"macro\"])\n",
    "\n",
    "print(f\"Macro-averaged One-vs-Rest ROC AUC score:\\n{roc_auc['macro']:.2f}\")\n",
    "print(f\"Micro-averaged One-vs-Rest ROC AUC score:\\n{roc_auc['micro']:.2f}\")"
   ]
  },
  {
   "cell_type": "code",
   "execution_count": 88,
   "metadata": {},
   "outputs": [
    {
     "data": {
      "image/png": "[encoded data removed]",
      "text/plain": [
       "<Figure size 504x504 with 1 Axes>"
      ]
     },
     "metadata": {},
     "output_type": "display_data"
    }
   ],
   "source": [
    "target_names = {0:'Pop', 1:'Rock', 2:'Indie', 3:'Hip hop/rap', 4:'Gospel'}\n",
    "\n",
    "fig, ax = plt.subplots(figsize=(7, 7))\n",
    "\n",
    "plt.plot(\n",
    "    fpr[\"micro\"],\n",
    "    tpr[\"micro\"],\n",
    "    label=f\"micro-average ROC curve (AUC = {roc_auc['micro']:.2f})\",\n",
    "    color=\"deeppink\",\n",
    "    linestyle=\":\",\n",
    "    linewidth=4,\n",
    ")\n",
    "\n",
    "plt.plot(\n",
    "    fpr[\"macro\"],\n",
    "    tpr[\"macro\"],\n",
    "    label=f\"macro-average ROC curve (AUC = {roc_auc['macro']:.2f})\",\n",
    "    color=\"navy\",\n",
    "    linestyle=\":\",\n",
    "    linewidth=4,\n",
    ")\n",
    "\n",
    "colors = cycle([\"aqua\", \"darkorange\", \"cornflowerblue\", \"red\", \"darkgreen\"])\n",
    "for class_id, color in zip(range(0,5), colors):\n",
    "    RocCurveDisplay.from_predictions(\n",
    "        y_onehot_test[:, class_id],\n",
    "        y_score1[:, class_id],\n",
    "        name=f\"ROC curve for {target_names[class_id]}\",\n",
    "        color=color,\n",
    "        ax=ax,\n",
    "    )\n",
    "\n",
    "plt.plot([0, 1], [0, 1], \"k--\", label=\"ROC curve for chance level (AUC = 0.5)\")\n",
    "plt.axis(\"square\")\n",
    "plt.xlabel(\"Taxa de Falso Positivo\")\n",
    "plt.ylabel(\"Taxa de Verdadeiro Positivo\")\n",
    "plt.title(\"Curva ROC para o modelo 1\\nOne-vs-Rest multiclasse\")\n",
    "plt.legend()\n",
    "plt.show()"
   ]
  },
  {
   "attachments": {},
   "cell_type": "markdown",
   "metadata": {},
   "source": [
    "#### Para o segundo modelo:"
   ]
  },
  {
   "cell_type": "code",
   "execution_count": 89,
   "metadata": {},
   "outputs": [
    {
     "name": "stdout",
     "output_type": "stream",
     "text": [
      "Macro-averaged One-vs-Rest ROC AUC score:\n",
      "0.82\n",
      "Micro-averaged One-vs-Rest ROC AUC score:\n",
      "0.87\n"
     ]
    }
   ],
   "source": [
    "fpr, tpr, roc_auc = dict(), dict(), dict()\n",
    "\n",
    "# micro\n",
    "fpr[\"micro\"], tpr[\"micro\"], _ = roc_curve(y_onehot_test.ravel(), y_score2.ravel())\n",
    "roc_auc[\"micro\"] = auc(fpr[\"micro\"], tpr[\"micro\"])\n",
    "\n",
    "# macro\n",
    "for i in range(5):\n",
    "    fpr[i], tpr[i], _ = roc_curve(y_onehot_test[:, i], y_score2[:, i])\n",
    "    roc_auc[i] = auc(fpr[i], tpr[i])\n",
    "\n",
    "fpr_grid = np.linspace(0.0, 1.0, 1000)\n",
    "\n",
    "# Interpolate all ROC curves at these points\n",
    "mean_tpr = np.zeros_like(fpr_grid)\n",
    "\n",
    "for i in range(5):\n",
    "    mean_tpr += np.interp(fpr_grid, fpr[i], tpr[i])  # interpolação linear\n",
    "\n",
    "mean_tpr /= 5\n",
    "\n",
    "fpr[\"macro\"] = fpr_grid\n",
    "tpr[\"macro\"] = mean_tpr\n",
    "roc_auc[\"macro\"] = auc(fpr[\"macro\"], tpr[\"macro\"])\n",
    "\n",
    "print(f\"Macro-averaged One-vs-Rest ROC AUC score:\\n{roc_auc['macro']:.2f}\")\n",
    "print(f\"Micro-averaged One-vs-Rest ROC AUC score:\\n{roc_auc['micro']:.2f}\")"
   ]
  },
  {
   "cell_type": "code",
   "execution_count": 91,
   "metadata": {},
   "outputs": [
    {
     "data": {
      "image/png": "[encoded data removed]",
      "text/plain": [
       "<Figure size 504x504 with 1 Axes>"
      ]
     },
     "metadata": {},
     "output_type": "display_data"
    }
   ],
   "source": [
    "target_names = {0:'Pop', 1:'Rock', 2:'Indie', 3:'Hip hop/rap', 4:'Gospel'}\n",
    "\n",
    "fig, ax = plt.subplots(figsize=(7, 7))\n",
    "\n",
    "plt.plot(\n",
    "    fpr[\"micro\"],\n",
    "    tpr[\"micro\"],\n",
    "    label=f\"micro-average ROC curve (AUC = {roc_auc['micro']:.2f})\",\n",
    "    color=\"deeppink\",\n",
    "    linestyle=\":\",\n",
    "    linewidth=4,\n",
    ")\n",
    "\n",
    "plt.plot(\n",
    "    fpr[\"macro\"],\n",
    "    tpr[\"macro\"],\n",
    "    label=f\"macro-average ROC curve (AUC = {roc_auc['macro']:.2f})\",\n",
    "    color=\"navy\",\n",
    "    linestyle=\":\",\n",
    "    linewidth=4,\n",
    ")\n",
    "\n",
    "colors = cycle([\"aqua\", \"darkorange\", \"cornflowerblue\", \"red\", \"darkgreen\"])\n",
    "for class_id, color in zip(range(0,5), colors):\n",
    "    RocCurveDisplay.from_predictions(\n",
    "        y_onehot_test[:, class_id],\n",
    "        y_score2[:, class_id],\n",
    "        name=f\"ROC curve for {target_names[class_id]}\",\n",
    "        color=color,\n",
    "        ax=ax,\n",
    "    )\n",
    "\n",
    "plt.plot([0, 1], [0, 1], \"k--\", label=\"ROC curve for chance level (AUC = 0.5)\")\n",
    "plt.axis(\"square\")\n",
    "plt.xlabel(\"Taxa de Falso Positivo\")\n",
    "plt.ylabel(\"Taxa de Verdadeiro Positivo\")\n",
    "plt.title(\"Curva ROC para o modelo 2\\nOne-vs-Rest multiclasse\")\n",
    "plt.legend()\n",
    "plt.show()"
   ]
  },
  {
   "cell_type": "code",
   "execution_count": 72,
   "metadata": {},
   "outputs": [
    {
     "name": "stdout",
     "output_type": "stream",
     "text": [
      "2037    [instant, karma, gonna, get, gonna, knock, rig...\n",
      "2176    [know, somewher, somewher, far, away, want, ba...\n",
      "1373    [stage, rockin, ',, stir, crazi, cocoa, flow, ...\n",
      "6524    [see, color, world, rearrang, center, sentinel...\n",
      "4935    [oh, oh, oh, oh, oh, oh, oh, oh, oh, oh, oh, o...\n",
      "                              ...                        \n",
      "6378    [espíritu, muévet, con, poder, fuego, ven, sop...\n",
      "6695    [drug, drop, drop, drop, drop, bitch, get, dro...\n",
      "2004    [friend, say, love, mean, lot, know, love, got...\n",
      "5820    [love, enough, see, broken, heart, gain, brand...\n",
      "2055    [would, think, sang, tune, would, stand, walk,...\n",
      "Name: musica, Length: 2114, dtype: object\n",
      "\n",
      "\n",
      "2037    1\n",
      "2176    0\n",
      "1373    0\n",
      "6524    2\n",
      "4935    0\n",
      "       ..\n",
      "6378    4\n",
      "6695    3\n",
      "2004    1\n",
      "5820    4\n",
      "2055    1\n",
      "Name: Target, Length: 2114, dtype: int64\n"
     ]
    }
   ],
   "source": [
    "print(X_test)\n",
    "print('\\n')\n",
    "print(y_test)"
   ]
  },
  {
   "cell_type": "code",
   "execution_count": 103,
   "metadata": {},
   "outputs": [
    {
     "name": "stdout",
     "output_type": "stream",
     "text": [
      "titulo                                                           bones\n",
      "titulo tokenizado                                               [bone]\n",
      "musica completa      The second you walked in the room, my legs sta...\n",
      "musica               [second, walk, room, leg, start, shake, blood,...\n",
      "genero                                                        pop rock\n",
      "Target                                                               0\n",
      "Name: 3444, dtype: object\n",
      "\n",
      "\n",
      "Modelo 1: 0, Modelo 2: 0\n"
     ]
    }
   ],
   "source": [
    "print(lyrics_df.iloc[3444]) # primeira música do conjunto de teste\n",
    "print('\\n')\n",
    "print(f'Modelo 1: {y_pred1[0]}, Modelo 2: {y_pred2[0]}')"
   ]
  },
  {
   "attachments": {},
   "cell_type": "markdown",
   "metadata": {},
   "source": [
    "No caso acima, podemos ver que ambos os modelos acertaram a previsão.\n",
    "\n",
    "Por fim, testando com uma última música:"
   ]
  },
  {
   "cell_type": "code",
   "execution_count": 104,
   "metadata": {},
   "outputs": [],
   "source": [
    "boss_final = lyrics_df.loc[lyrics_df['titulo'] == 'take me to church']\n",
    "boss_final = boss_final['musica']"
   ]
  },
  {
   "cell_type": "code",
   "execution_count": 106,
   "metadata": {},
   "outputs": [
    {
     "data": {
      "text/plain": [
       "array([[ 0.06629094, -0.03711534,  0.05951777, -0.28147966, -0.03757274,\n",
       "        -0.46364433,  0.12307993,  0.41165465, -0.38287804, -0.544488  ,\n",
       "        -0.25042218, -0.5088017 ,  0.31273386,  0.4291813 , -0.35255682,\n",
       "         0.18168949,  0.22267887, -0.30262965, -0.4895625 , -0.33097106,\n",
       "         0.08654214, -0.5066243 ,  0.00537932, -0.0386173 , -0.16988179,\n",
       "         0.14773019, -0.6186023 , -0.33915007, -0.6300532 , -0.13404459,\n",
       "         0.20835465,  0.26227346,  0.3603134 , -0.41073704,  0.14502   ,\n",
       "         0.5304364 ,  0.33668327, -0.24228233, -0.41800037, -0.1571959 ,\n",
       "        -0.40512118, -0.16028367, -0.5911089 ,  0.44954458,  0.2256311 ,\n",
       "         0.11772861, -0.35365653, -0.13652313,  0.22157906,  0.38444117,\n",
       "         0.29276535,  0.11603554, -0.4531159 , -0.21500343, -0.16652325,\n",
       "         0.20627052,  0.13610134, -0.15291421,  0.11182084, -0.06971484,\n",
       "         0.14189719, -0.42437902,  0.1926834 ,  0.10237315, -0.44677433,\n",
       "         0.21487524,  0.36387095, -0.13594054, -0.16413206,  0.34463158,\n",
       "        -0.6375847 ,  0.14144409, -0.11970958,  0.26146355,  0.60500777,\n",
       "         0.27128136, -0.15932135, -0.16222252, -0.36962238,  0.15872443,\n",
       "        -0.79518956,  0.187397  ,  0.28288707,  0.29798788, -1.0237788 ,\n",
       "         0.09285919,  0.4034005 ,  0.21139272,  0.6399452 ,  0.0045337 ,\n",
       "         0.5280395 ,  0.5712663 , -0.14381233,  0.52427876,  0.1988264 ,\n",
       "         0.30977455, -0.49725822, -0.14202464, -0.55086493,  0.01093318],\n",
       "       [ 0.10266726, -0.08544005, -0.04802398, -0.36481765, -0.00519822,\n",
       "        -0.45859224,  0.15021896,  0.24141894, -0.32764548, -0.6143212 ,\n",
       "        -0.36370927, -0.48972905,  0.19281018,  0.41908336, -0.39691988,\n",
       "         0.04001017,  0.24630964, -0.17804827, -0.41447493, -0.26963463,\n",
       "         0.12073009, -0.5257281 ,  0.0956967 ,  0.1210332 , -0.2076073 ,\n",
       "         0.31055346, -0.6547635 , -0.23880501, -0.7507984 , -0.13076042,\n",
       "         0.18760408,  0.40718725,  0.3505836 , -0.4812249 ,  0.26538187,\n",
       "         0.27824375,  0.2789672 , -0.19285816, -0.5524452 , -0.09371462,\n",
       "        -0.4458881 , -0.18603192, -0.71834075,  0.50240415,  0.28502652,\n",
       "         0.11368901, -0.25886825, -0.07298777,  0.09793807,  0.30239487,\n",
       "         0.38893625,  0.20754829, -0.40110153, -0.34388712, -0.21210736,\n",
       "         0.16936636,  0.00281849, -0.27903405, -0.00977299, -0.18515377,\n",
       "         0.1651103 , -0.5482888 ,  0.16390964,  0.10510071, -0.40257913,\n",
       "         0.3294284 ,  0.27809343, -0.13134326, -0.16905688,  0.48833215,\n",
       "        -0.7649717 ,  0.27524674, -0.02949921,  0.3149857 ,  0.64158297,\n",
       "         0.26811558, -0.26933244, -0.08690135, -0.28459176, -0.02592054,\n",
       "        -0.92643857,  0.09330344,  0.346804  ,  0.37722138, -1.0224805 ,\n",
       "        -0.0115224 ,  0.48617068,  0.11452137,  0.5800092 , -0.24344417,\n",
       "         0.63741475,  0.6109969 , -0.04374531,  0.48585692,  0.2446958 ,\n",
       "         0.12873584, -0.39324   , -0.20830968, -0.62836975,  0.02273991],\n",
       "       [ 0.06953505, -0.03657353,  0.06390236, -0.28285545, -0.03310103,\n",
       "        -0.46821943,  0.12394338,  0.4064891 , -0.3779962 , -0.54950565,\n",
       "        -0.2528197 , -0.5072404 ,  0.30695817,  0.4318699 , -0.36156857,\n",
       "         0.18352385,  0.21689884, -0.2976151 , -0.4960453 , -0.32868773,\n",
       "         0.08505617, -0.5022872 ,  0.00568732, -0.03677302, -0.17562109,\n",
       "         0.155846  , -0.61377746, -0.3372712 , -0.63313794, -0.13050753,\n",
       "         0.20903207,  0.25486773,  0.3623265 , -0.41273004,  0.14756663,\n",
       "         0.53205603,  0.33865896, -0.23751833, -0.41717258, -0.15384187,\n",
       "        -0.40758002, -0.15200196, -0.59650683,  0.4476959 ,  0.22901297,\n",
       "         0.11616468, -0.34891656, -0.13650125,  0.22182523,  0.3810176 ,\n",
       "         0.29768515,  0.10868271, -0.4492645 , -0.2136695 , -0.16332436,\n",
       "         0.21139236,  0.1258648 , -0.15512702,  0.11424839, -0.07426225,\n",
       "         0.14811279, -0.43793994,  0.195922  ,  0.10523815, -0.44666502,\n",
       "         0.2197037 ,  0.36128968, -0.14537683, -0.16159785,  0.34224615,\n",
       "        -0.633593  ,  0.14822365, -0.11814789,  0.25760397,  0.608241  ,\n",
       "         0.28010544, -0.16581483, -0.16315989, -0.3677041 ,  0.15751375,\n",
       "        -0.79895234,  0.19475545,  0.28045842,  0.2971213 , -1.0309297 ,\n",
       "         0.08673241,  0.41281253,  0.20930813,  0.63515514,  0.01230821,\n",
       "         0.52874804,  0.58148277, -0.13131595,  0.52122515,  0.2040726 ,\n",
       "         0.30941078, -0.49979252, -0.15113606, -0.5455354 ,  0.00761325]],\n",
       "      dtype=float32)"
      ]
     },
     "execution_count": 106,
     "metadata": {},
     "output_type": "execute_result"
    }
   ],
   "source": [
    "boss_final1 = lyrics_df.loc[lyrics_df['titulo'] == 'take me to church']\n",
    "boss_final = boss_final1['musica']\n",
    "\n",
    "modelo_teste = w2v(boss_final,min_count=1)\n",
    "w2vec_teste = dict(zip(model.wv.index_to_key, model.wv.vectors))\n",
    "modelw_teste = MeanEmbeddingVectorizer(w2vec_teste)\n",
    "boss_final_ = modelw_teste.transform(boss_final)\n",
    "boss_final_"
   ]
  },
  {
   "cell_type": "code",
   "execution_count": 110,
   "metadata": {},
   "outputs": [
    {
     "data": {
      "text/plain": [
       "array([4, 1, 4], dtype=int64)"
      ]
     },
     "execution_count": 110,
     "metadata": {},
     "output_type": "execute_result"
    }
   ],
   "source": [
    "regressao_modelo1.predict(boss_final_)  # Modelo que considera a quantidade de músicas por categoria"
   ]
  },
  {
   "cell_type": "code",
   "execution_count": 120,
   "metadata": {},
   "outputs": [
    {
     "data": {
      "text/plain": [
       "array([0, 1, 0], dtype=int64)"
      ]
     },
     "execution_count": 120,
     "metadata": {},
     "output_type": "execute_result"
    }
   ],
   "source": [
    "regressao_modelo2.predict(boss_final_)  # Modelo que não considera quantidade"
   ]
  },
  {
   "cell_type": "code",
   "execution_count": 115,
   "metadata": {},
   "outputs": [
    {
     "data": {
      "text/html": [
       "<div>\n",
       "<style scoped>\n",
       "    .dataframe tbody tr th:only-of-type {\n",
       "        vertical-align: middle;\n",
       "    }\n",
       "\n",
       "    .dataframe tbody tr th {\n",
       "        vertical-align: top;\n",
       "    }\n",
       "\n",
       "    .dataframe thead th {\n",
       "        text-align: right;\n",
       "    }\n",
       "</style>\n",
       "<table border=\"1\" class=\"dataframe\">\n",
       "  <thead>\n",
       "    <tr style=\"text-align: right;\">\n",
       "      <th></th>\n",
       "      <th>titulo</th>\n",
       "      <th>titulo tokenizado</th>\n",
       "      <th>musica completa</th>\n",
       "      <th>musica</th>\n",
       "      <th>genero</th>\n",
       "      <th>Target</th>\n",
       "    </tr>\n",
       "  </thead>\n",
       "  <tbody>\n",
       "    <tr>\n",
       "      <th>3645</th>\n",
       "      <td>take me to church</td>\n",
       "      <td>[take, me, to, church]</td>\n",
       "      <td>My lover's got humour\\nShe's the giggle at a f...</td>\n",
       "      <td>[lover, got, humour, giggl, funer, know, every...</td>\n",
       "      <td>pop rock</td>\n",
       "      <td>0</td>\n",
       "    </tr>\n",
       "    <tr>\n",
       "      <th>4946</th>\n",
       "      <td>take me to church</td>\n",
       "      <td>[take, me, to, church]</td>\n",
       "      <td>Yeah, yeah, yeah, yeah, yeah\\nMy lover's got h...</td>\n",
       "      <td>[yeah, yeah, yeah, yeah, yeah, lover, got, hum...</td>\n",
       "      <td>pop</td>\n",
       "      <td>0</td>\n",
       "    </tr>\n",
       "    <tr>\n",
       "      <th>6476</th>\n",
       "      <td>take me to church</td>\n",
       "      <td>[take, me, to, church]</td>\n",
       "      <td>My lover's got humour\\nShe's the giggle at a f...</td>\n",
       "      <td>[lover, got, humour, giggl, funer, know, every...</td>\n",
       "      <td>alternativo</td>\n",
       "      <td>2</td>\n",
       "    </tr>\n",
       "  </tbody>\n",
       "</table>\n",
       "</div>"
      ],
      "text/plain": [
       "                 titulo       titulo tokenizado  \\\n",
       "3645  take me to church  [take, me, to, church]   \n",
       "4946  take me to church  [take, me, to, church]   \n",
       "6476  take me to church  [take, me, to, church]   \n",
       "\n",
       "                                        musica completa  \\\n",
       "3645  My lover's got humour\\nShe's the giggle at a f...   \n",
       "4946  Yeah, yeah, yeah, yeah, yeah\\nMy lover's got h...   \n",
       "6476  My lover's got humour\\nShe's the giggle at a f...   \n",
       "\n",
       "                                                 musica       genero  Target  \n",
       "3645  [lover, got, humour, giggl, funer, know, every...     pop rock       0  \n",
       "4946  [yeah, yeah, yeah, yeah, yeah, lover, got, hum...          pop       0  \n",
       "6476  [lover, got, humour, giggl, funer, know, every...  alternativo       2  "
      ]
     },
     "execution_count": 115,
     "metadata": {},
     "output_type": "execute_result"
    }
   ],
   "source": [
    "boss_final1"
   ]
  },
  {
   "cell_type": "code",
   "execution_count": 119,
   "metadata": {},
   "outputs": [
    {
     "data": {
      "text/plain": [
       "\"Yeah, yeah, yeah, yeah, yeah\\nMy lover's got humour\\nShe's the giggle at a funeral\\nKnows everybody's disapproval\\nI should've worshipped her sooner\\n\\nIf the heavens ever did speak\\nShe is the last true mouthpiece\\nEvery Sunday's getting more bleak\\nA fresh poison each week\\n\\nWe were born sick\\nBut I love it\\nCommand me to be well\\nAmen, amen, amen\\n\\nTake me to church\\nI'll worship like a dog at the shrine of your lies\\nI'll tell you my sins\\nSo you can sharpen your knife\\nOffer me that deathless death\\nGood God, let me give you my life\\n\\nIf I'm a pagan of the good times\\nMy lover's the sunlight\\nTo keep the goddess on my side\\nShe demands a sacrifice\\nThat looks tasty\\nThat looks plenty\\nThis is hungry work\\n\\nTake me to church\\nI'll worship like a dog at the shrine of your lies\\nI'll tell you my sins\\nSo you can sharpen your knife\\nOffer me my deathless death\\nGood God, let me give you my life\\n\\nTake me to church\\nI'll worship like a dog at the shrine of your lies\\nI'll tell you my sins\\nSo you can sharpen your knife\\nOffer me my deathless death\\nGood God, let me give you my life\\nTake me to church\\nYeah, yeah, yeah, yeah, yeah\""
      ]
     },
     "execution_count": 119,
     "metadata": {},
     "output_type": "execute_result"
    }
   ],
   "source": [
    "boss_final1.iloc[1]['musica completa']"
   ]
  },
  {
   "attachments": {},
   "cell_type": "markdown",
   "metadata": {},
   "source": [
    "No caso acima, uma mesma música (regravada por artistas que tocam gêneros diferentes) resultou em classificações distintas pelo modelo treinado,\n",
    "provavelmente devido a pequenas alterações na letra, como a presença do trecho \"yeah, yeah, yeah\" na segunda música."
   ]
  },
  {
   "attachments": {},
   "cell_type": "markdown",
   "metadata": {},
   "source": [
    "\n",
    "---\n",
    "\n",
    "## Discussão e conclusões\n",
    "\n",
    "- Relação com sistemas de recuperação de informação: o modelo poderia ser utilizado para categorizar músicas automaticamente e facilitar buscas por gênero. Por exemplo, artistas menores costumam não ter categorização segundo gênero em sites de músicas (como o próprio Letras.mus), pois essa categorização é, em geral, feita manualmente. Essas classificações automáticas poderiam vir a ser utilizadas, por exemplo, para buscar músicas semelhantes a outras de gênero conhecido ou para facilitar a catalogação de novas músicas segundo o estilo.\n",
    "\n",
    "- podia ter colocado o nome das artistas no corpus (pode ser útil no desenvolvimento de sistemas de recuparação e pesquisa)\n",
    "\n",
    "- música alternativa/indie pode ter dado problema porque muitas vezes se assemelha a vários gêneros distintos (exemplo: twenty one pilots)\n",
    "\n",
    "- o modelo ficou muito bom pra diferenciar música gospel de música não-gospel (possivelmente porque o vocabulário desse tipo de música é muito específico e )\n",
    "\n",
    "- outro problema é que o gênero musical é muitas vezes definido por fatores externos a letra da música, como o ritmo: uma mesma música tocada em ritmos diferentes pode receber outras classificações. Assim, um possível trabalho posterior que poderia melhorar o resultado"
   ]
  }
 ],
 "metadata": {
  "kernelspec": {
   "display_name": "Python 3.9.13 64-bit (microsoft store)",
   "language": "python",
   "name": "python3"
  },
  "language_info": {
   "codemirror_mode": {
    "name": "ipython",
    "version": 3
   },
   "file_extension": ".py",
   "mimetype": "text/x-python",
   "name": "python",
   "nbconvert_exporter": "python",
   "pygments_lexer": "ipython3",
   "version": "3.9.13"
  },
  "orig_nbformat": 4,
  "vscode": {
   "interpreter": {
    "hash": "d9b8235acfa5f57bc84c8c4655b12f460938395c538d7ce7d348266f84149675"
   }
  }
 },
 "nbformat": 4,
 "nbformat_minor": 2
}
